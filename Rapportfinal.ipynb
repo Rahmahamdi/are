{
 "cells": [
  {
   "cell_type": "markdown",
   "metadata": {},
   "source": [
    "#  <div align=\"middle\"> <font color='red'> Dynamique citoyenne</font> </div>"
   ]
  },
  {
   "cell_type": "markdown",
   "metadata": {},
   "source": [
    "## L'Expansion d'une langue"
   ]
  },
  {
   "cell_type": "markdown",
   "metadata": {},
   "source": [
    " ## Sommaire\n",
    " \n",
    "1. Introduction\n",
    "     \n",
    "\n",
    "2. Résumé\n",
    "\n",
    "\n",
    "3. Recherche\n",
    "\n",
    "\n",
    "4. Explication du code, expérimentation et solution proposée*\n",
    "  \n",
    "      4.1 Code\n",
    "     \n",
    "      4.2 Test\n",
    "      \n",
    "      4.3 Solution\n",
    "     \n",
    "     \n",
    "5. Conclusion\n",
    "\n",
    "\n",
    "6. Bibliographie"
   ]
  },
  {
   "cell_type": "markdown",
   "metadata": {},
   "source": [
    "### 1. *Introduction*"
   ]
  },
  {
   "cell_type": "markdown",
   "metadata": {},
   "source": [
    "Nous avons choisi de travailler sur un aspect precis de la dynamique civile, à savoir, l'expansion des langues et plus precisemment celle d'une langue universelle. Notre groupe est composé de Dino LUMBROSO, Gad TIBI, Rahma HAMDI et Elisa SALFATI. On a rapidement décidé de travailler sur la problématique suivante :\n",
    "    \n",
    "    Quels sont les critères pour qu'une langue soit considérée comme universelle ?\n",
    "\n",
    "Ensuite, on a émis les hypothèses que :\n",
    "    \n",
    "    La Langue doit être la mieux répartie sur l'ensemble de la carte\n",
    "        -> plus de 50% de la population parlent cette langue\n",
    "        -> La population est homogènement répartie sur l'ensemble du territoire\n",
    "        \n",
    "Après avoir initialisé une \"carte de langue\", on a décidé de se concentrer sur le nombre de personne parlant une langue et sa répartition au bout de n générations."
   ]
  },
  {
   "cell_type": "markdown",
   "metadata": {},
   "source": [
    "### 2. *Résumé*"
   ]
  },
  {
   "cell_type": "markdown",
   "metadata": {},
   "source": [
    "    2.1 Français\n",
    "    \n",
    "On a décidé de travailler sur le thème de la diffusion des langues. Très vite, nous sommes tombés d'accord sur la problématique et sur l'importance de se centrer sur une langue universelle. \n",
    "\n",
    "On a d'abord crée une carte sur laquelle on a initialisé un nombre aléatoire de personne sur certaines cases (tirées aléatoirement aussi) dont le nombre dépend de celui des langues. \n",
    "\n",
    "On a fait une triple evolution pour essayer de se rapprocher au mieux de la \"vraie\" vie. En premier lieu, on a modélisé le nombre de naissance et de mort dans chacune des cases, puis, leur migration sur les cases à proximité direct et enfin l'evolution entre les langues dans une même case. \n",
    "\n",
    "Pour finir, on a determiné si une langue avait réussi à prendre le dessus des autres et ainsi être considéré comme universelle et pourquoi cette langue avais-t-elle pris le dessus.\n",
    "\n",
    "    2.2 Anglais\n",
    "    \n",
    "We decided to work on the topic of  languages’ diffusion. We quickly agreed on the problem of how important it is to focus on a universal language.\n",
    "\n",
    "We first built a map on which we initialized a random number of people on different places. The number of people would be proportional of how many languages there were.\n",
    "\n",
    "We planned a triple evolution to get as close as possible of « real life ». First of all, we modeled the number of births and deaths in each place, and then their migration to near places to eventually see the evolution between languages in same places.\n",
    "\n",
    "We closed this analysis by determining if a language had managed to take over others, to then be considered as the universal one. We then tried to find the reasons on why this happened in the end."
   ]
  },
  {
   "cell_type": "markdown",
   "metadata": {},
   "source": [
    "### 3. *Recherche*"
   ]
  },
  {
   "cell_type": "markdown",
   "metadata": {},
   "source": [
    "Le thème que nous avons décidé d’aborder dans le cadre de notre projet d’ARE DYNAMIC est la linguistique et plus particulièrement l’évolution dans l’espace et dans le temps d’une langue. Une langue peut se définir comme un ensemble de signes oraux et écrit qui permettent à un groupe donné de communiquer. Une langue caractérise donc une population et évolue ainsi en même temps qu’elle. \n",
    "\n",
    "Au fur et à mesure du temps, on a pu observer une évolution et une expansion des langues sur le territoire mondial dû à de nombreux facteurs. Parmi ceux-là, les plus décisif sont d’abord le facteur démographique, car, comme nous l’avons vu, une langue est directement rattachée à une population. \n",
    "\n",
    "Ce facteur comprend d’abords le nombre de locuteurs, qui a un rôle capital, puisque si une langue n’a plus de locuteur, celle-ci est considéré comme morte. Il comprend aussi les facteurs migratoires, c’est d’ailleurs ici qu’on est le plus apte à parler d’expansion. \n",
    "\n",
    "Ensuite, on retrouve les facteurs économiques, culturels, politiques ou encore linguistiques, qui ont aussi leur importance dans l’évolution d’une langue. Cependant, en s’intéressant à ce domaine, nous nous sommes interrogés concernant l’apparition et l’existence d’une langue particulière que l’on peut caractériser d’universelle. Une langue universelle est une langue, comme l’anglais aujourd’hui, qui est comprise par l’ensemble, ou presque de la population mondiale. Ainsi celle-ci se démarque par le nombre de personnes qui parle cette langue mais aussi par sa répartition dans le monde. On a donc trouvé intéressant d’essayé de modéliser l’évolution de différentes langues dans un espace, si une langue pouvait potentiellement répondre au critère de la langue universelle, et ainsi pouvoir en devenir une. Comme vous avez pu le voir, nous avons donc émis des hypothèses avec différents critères et une problématique principale, à laquelle nous allons essayé de répondre grâce a une modélisation informatique, en ne prenant en compte que les facteurs démographiques, migratoires et linguistiques, que nous allons vous présenter dans la partie suivante."
   ]
  },
  {
   "cell_type": "markdown",
   "metadata": {},
   "source": [
    "### 4. *Explication du code, expérimentation et solution proposée*"
   ]
  },
  {
   "cell_type": "markdown",
   "metadata": {},
   "source": [
    "    4.1 Code\n",
    "    \n",
    "1. On a commencé par définir une liste de tuple, correspondant aux coordonnées d'une population dans la carte, puis on a crée une liste contenant le nombre de langue.\n",
    "    \n",
    "    Ensuite, on a associé les deux fonction pour donner un dictionnaire qui a pour clef le tuple et pour valeur la liste de langue.\n",
    "   \n",
    "   Enfin, on a écrit une fonction qui choisit au hasard des coordonées dans le dictionnaire et qui leur associe une population parlant une seule langue. Le nombre de coordonnées choisi correspond donc au nombre de langue.  "
   ]
  },
  {
   "cell_type": "markdown",
   "metadata": {},
   "source": [
    "<img src=\"https://image.noelshack.com/fichiers/2019/16/3/1555530656-arecode1.png\" alt=\"répartion unit langue\"/>"
   ]
  },
  {
   "cell_type": "markdown",
   "metadata": {},
   "source": [
    "2. On a crée une fonction qui permet d'actualiser le nombre de personnes vivant sur une case en lui affectant un taux de naissance (jusqu'à 3%) et de mort (jusqu'à 1%) par génération.\n",
    "   A partir d'une case passée en parametre, nous avons sélectionné une proportion de personnes (entre 10 et 20%) et nous l'avons déplacé sur une case adjacente pour une génération. \n",
    "   Si plus d'une langues se trouvent sur une même case, on a écrit une fonction qui permet à la langue majoritaire  de prendre progressivement le dessus sur les autres.\n",
    "   Enfin, on a réuni ces trois fonctions et on les a appliqué a toutes les cases de la cartes (cf. fonction \"evolution\") puis a un certain nombre de générations (cf. fonction génération) "
   ]
  },
  {
   "cell_type": "markdown",
   "metadata": {},
   "source": [
    "<img src=\"https://image.noelshack.com/fichiers/2019/16/3/1555530663-arecode2.png\" alt=\"Evolution et génération\"/>"
   ]
  },
  {
   "cell_type": "markdown",
   "metadata": {},
   "source": [
    "2. Dans la premiere fonction ci-dessus, nous avons d'abord construit un ensemble qui contient toutes les coordonnées des cases où il y a une population, à toutes ces cases nous avons appliqué nos trois fonctions d'évolution. \n",
    "   \n",
    "   Dans la deuxième fonction, on a appliqué la fonction évolution jusqu'à n génération et on a stocké individuellement chaque evolution dans une grande liste (list_gen) pour pouvoir acceder facilement à la situation de la génération voulu par la suite."
   ]
  },
  {
   "cell_type": "markdown",
   "metadata": {},
   "source": [
    "3. La dernière fonction importante est \"universelle\". Elle se décompose en trois parties, la première compte le nombre total de personne (sur toute la carte) parlant chaque langue et stock ces données dans une liste, la deuxième compte le nombre de case pour chaque langue et les stock dans une autre liste, la dernière fait le rapport entre les deux autres."
   ]
  },
  {
   "cell_type": "markdown",
   "metadata": {},
   "source": [
    "<img src =\"https://image.noelshack.com/fichiers/2019/16/3/1555532638-capture-d-ecran-2019-04-17-a-22-23-34.png\" alt=\"Universelle\"/>"
   ]
  },
  {
   "cell_type": "markdown",
   "metadata": {},
   "source": [
    "    4.2 Test"
   ]
  },
  {
   "cell_type": "markdown",
   "metadata": {},
   "source": [
    "Voici le resultat de la fonction repartition_init_langue"
   ]
  },
  {
   "cell_type": "markdown",
   "metadata": {},
   "source": [
    "<img src=\"https://image.noelshack.com/fichiers/2019/16/3/1555530726-aretest1.png\" alt=\"Resultat\"/>"
   ]
  },
  {
   "cell_type": "markdown",
   "metadata": {},
   "source": [
    "Cliquez sur le lien pour apercevoir la vidéo de l'évolution d'une langue"
   ]
  },
  {
   "cell_type": "markdown",
   "metadata": {
    "scrolled": false
   },
   "source": [
    "<a href=\"http://vimeo.com/331045724\"> vidéo </a>"
   ]
  },
  {
   "cell_type": "markdown",
   "metadata": {},
   "source": [
    "Résultat de la fonction universelle"
   ]
  },
  {
   "cell_type": "markdown",
   "metadata": {
    "scrolled": true
   },
   "source": [
    "<img src=\"https://image.noelshack.com/fichiers/2019/16/3/1555530701-aretest2.png\" alt=\"Evolution et génération\"/> "
   ]
  },
  {
   "cell_type": "markdown",
   "metadata": {},
   "source": [
    "    4.3 Solution"
   ]
  },
  {
   "cell_type": "markdown",
   "metadata": {},
   "source": [
    "Il existe de nombreux facteurs qui influent sur l'expansion et l'évoltution d'une langue dans le monde. En s'interessant seulement aux facteurs demographiques et linguistique nous avons pu observé qu'au fil des générations la probalilité qu'une langue soit considérée comme universelle dépend généralement du nombre de personnes qui parlent initialement cette langue, bien qu'il y ai nombreux facteurs aléatoire dans notre modèle. \n",
    "\n",
    "Ainsi, on peut conclure que la probalilité qu'une langue soit considérée comme universelle dépend d'une part du nombre total de locuteurs et d'autre part du plus ou moins grand espace qu'occupe une population sur la carte au bout de la n-ieme génération. L'hypothèse du nombre total de personne qui parlent cette langue a donc bien été verifiée cependant notre modèle ne nous permet pas d'obtenir une repartition homogène comme le suggerait le deuxieme critère de l'hypothese. "
   ]
  },
  {
   "cell_type": "markdown",
   "metadata": {},
   "source": [
    "### 5. *Conclusion*"
   ]
  },
  {
   "cell_type": "markdown",
   "metadata": {},
   "source": [
    "Pour conclure, ce projet nous a tout d’abord permis de comprendre comment simuler une situation régit par différents paramètres aléatoires ; nous avons aussi découvert et appris à utiliser github qui est indispensable à toutes personnes voulant travailler dans l’informatique.\n",
    "Au début de chaque cours, nous nous réunissions afin d’attribuer des taches à chaque sous-groupes (de deux personnes) afin d’avancer plus vite. A la fin de chaque cours nous mettions en commun nos avancées pour intégrer notre travail au notebook principal.\n",
    "Travailler en groupe nous a appris à reconnaitre et respecter le travail de chacun. Nous avons également appris qu'il faut un leader dans un groupe pour bien fédérer et motiver les autres."
   ]
  },
  {
   "cell_type": "markdown",
   "metadata": {},
   "source": [
    "### 6. *Bibliographie*"
   ]
  },
  {
   "cell_type": "markdown",
   "metadata": {},
   "source": [
    "http://www.axl.cefan.ulaval.ca/Langues/2vital_expansion.htm#Le_facteur_culturel_et_ses_variables\n",
    "\n",
    "https://fr.wikipedia.org/wiki/Langue_universelle\n",
    "\n",
    "http://lavoixfrancophone.org/expansion-des-langues/\n"
   ]
  }
 ],
 "metadata": {
  "kernelspec": {
   "display_name": "Python 3",
   "language": "python",
   "name": "python3"
  },
  "language_info": {
   "codemirror_mode": {
    "name": "ipython",
    "version": 3
   },
   "file_extension": ".py",
   "mimetype": "text/x-python",
   "name": "python",
   "nbconvert_exporter": "python",
   "pygments_lexer": "ipython3",
   "version": "3.7.3"
  }
 },
 "nbformat": 4,
 "nbformat_minor": 2
}
