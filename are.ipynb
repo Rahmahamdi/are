{
 "cells": [
  {
   "cell_type": "code",
   "execution_count": 1,
   "metadata": {},
   "outputs": [],
   "source": [
    "import matplotlib.pyplot as plt\n",
    "%matplotlib inline\n",
    "import random\n",
    "import numpy as np\n",
    "import math"
   ]
  },
  {
   "cell_type": "code",
   "execution_count": 2,
   "metadata": {},
   "outputs": [],
   "source": [
    "def init_pos(taille):\n",
    "    liste_tupple = []\n",
    "    plateau = taille*taille \n",
    "    for i in range(taille):\n",
    "        for j in range(taille):\n",
    "            liste_tupple.append((i,j))\n",
    "    return liste_tupple"
   ]
  },
  {
   "cell_type": "code",
   "execution_count": 3,
   "metadata": {},
   "outputs": [],
   "source": [
    "def liste_langue(nbr_langue):\n",
    "    liste_langue = []\n",
    "    i = 0\n",
    "    for i in range(nbr_langue):\n",
    "        liste_langue.append(0)\n",
    "    return liste_langue"
   ]
  },
  {
   "cell_type": "code",
   "execution_count": 4,
   "metadata": {},
   "outputs": [],
   "source": [
    "pos = init_pos(6)\n",
    "langue = liste_langue(4)"
   ]
  },
  {
   "cell_type": "code",
   "execution_count": 5,
   "metadata": {},
   "outputs": [
    {
     "data": {
      "text/plain": [
       "[(0, 0),\n",
       " (0, 1),\n",
       " (0, 2),\n",
       " (0, 3),\n",
       " (0, 4),\n",
       " (0, 5),\n",
       " (1, 0),\n",
       " (1, 1),\n",
       " (1, 2),\n",
       " (1, 3),\n",
       " (1, 4),\n",
       " (1, 5),\n",
       " (2, 0),\n",
       " (2, 1),\n",
       " (2, 2),\n",
       " (2, 3),\n",
       " (2, 4),\n",
       " (2, 5),\n",
       " (3, 0),\n",
       " (3, 1),\n",
       " (3, 2),\n",
       " (3, 3),\n",
       " (3, 4),\n",
       " (3, 5),\n",
       " (4, 0),\n",
       " (4, 1),\n",
       " (4, 2),\n",
       " (4, 3),\n",
       " (4, 4),\n",
       " (4, 5),\n",
       " (5, 0),\n",
       " (5, 1),\n",
       " (5, 2),\n",
       " (5, 3),\n",
       " (5, 4),\n",
       " (5, 5)]"
      ]
     },
     "execution_count": 5,
     "metadata": {},
     "output_type": "execute_result"
    }
   ],
   "source": [
    "pos"
   ]
  },
  {
   "cell_type": "code",
   "execution_count": 6,
   "metadata": {},
   "outputs": [],
   "source": [
    "def pos1(pos):\n",
    "    i=0\n",
    "    i2 = 0\n",
    "    nbr_pop=[]\n",
    "    s= set()\n",
    "    n2 = 0\n",
    "    for e in range(len(langue)):\n",
    "        l=random.randint(0,len(pos)-1)\n",
    "        while l in s:\n",
    "            l=random.randint(0,len(pos)-1)\n",
    "       \n",
    "        s.add(l) #positionnement\n",
    "   \n",
    "    #for i2 in pos:\n",
    "      #  x,y,n = i2\n",
    "       # if i in s:\n",
    "        #    for i2 in pos:\n",
    "         #       n2 = random.randint(800,1000)\n",
    "          #      if n2 != n:\n",
    "                   \n",
    "           #         i2 = (x, y, n2)\n",
    "            #        pos[i] = i2\n",
    "             #   else :\n",
    "              #      n2 = random.randint(800,1000)\n",
    "               #     i2 = (x, y, n2)\n",
    "                #    pos[i] = i2\n",
    "                   \n",
    "               \n",
    "      #  i = i +1\n",
    "       \n",
    "                   \n",
    "           \n",
    "    return s"
   ]
  },
  {
   "cell_type": "code",
   "execution_count": 7,
   "metadata": {},
   "outputs": [
    {
     "data": {
      "text/plain": [
       "{6, 7, 12, 17}"
      ]
     },
     "execution_count": 7,
     "metadata": {},
     "output_type": "execute_result"
    }
   ],
   "source": [
    "rep = pos1(pos)\n",
    "rep"
   ]
  },
  {
   "cell_type": "code",
   "execution_count": 8,
   "metadata": {},
   "outputs": [
    {
     "data": {
      "text/plain": [
       "[0, 0, 0, 0]"
      ]
     },
     "execution_count": 8,
     "metadata": {},
     "output_type": "execute_result"
    }
   ],
   "source": [
    "langue"
   ]
  },
  {
   "cell_type": "code",
   "execution_count": 9,
   "metadata": {},
   "outputs": [],
   "source": [
    "def init_pop(pos, langue, s):\n",
    "    pop = dict()\n",
    "\n",
    "    for e in pos: \n",
    "            \n",
    "        pop[e] = langue.copy()\n",
    "        \n",
    "        \n",
    "    return pop\n"
   ]
  },
  {
   "cell_type": "code",
   "execution_count": 10,
   "metadata": {},
   "outputs": [
    {
     "data": {
      "text/plain": [
       "{(0, 0): [0, 0, 0, 0],\n",
       " (0, 1): [0, 0, 0, 0],\n",
       " (0, 2): [0, 0, 0, 0],\n",
       " (0, 3): [0, 0, 0, 0],\n",
       " (0, 4): [0, 0, 0, 0],\n",
       " (0, 5): [0, 0, 0, 0],\n",
       " (1, 0): [0, 0, 0, 0],\n",
       " (1, 1): [0, 0, 0, 0],\n",
       " (1, 2): [0, 0, 0, 0],\n",
       " (1, 3): [0, 0, 0, 0],\n",
       " (1, 4): [0, 0, 0, 0],\n",
       " (1, 5): [0, 0, 0, 0],\n",
       " (2, 0): [0, 0, 0, 0],\n",
       " (2, 1): [0, 0, 0, 0],\n",
       " (2, 2): [0, 0, 0, 0],\n",
       " (2, 3): [0, 0, 0, 0],\n",
       " (2, 4): [0, 0, 0, 0],\n",
       " (2, 5): [0, 0, 0, 0],\n",
       " (3, 0): [0, 0, 0, 0],\n",
       " (3, 1): [0, 0, 0, 0],\n",
       " (3, 2): [0, 0, 0, 0],\n",
       " (3, 3): [0, 0, 0, 0],\n",
       " (3, 4): [0, 0, 0, 0],\n",
       " (3, 5): [0, 0, 0, 0],\n",
       " (4, 0): [0, 0, 0, 0],\n",
       " (4, 1): [0, 0, 0, 0],\n",
       " (4, 2): [0, 0, 0, 0],\n",
       " (4, 3): [0, 0, 0, 0],\n",
       " (4, 4): [0, 0, 0, 0],\n",
       " (4, 5): [0, 0, 0, 0],\n",
       " (5, 0): [0, 0, 0, 0],\n",
       " (5, 1): [0, 0, 0, 0],\n",
       " (5, 2): [0, 0, 0, 0],\n",
       " (5, 3): [0, 0, 0, 0],\n",
       " (5, 4): [0, 0, 0, 0],\n",
       " (5, 5): [0, 0, 0, 0]}"
      ]
     },
     "execution_count": 10,
     "metadata": {},
     "output_type": "execute_result"
    }
   ],
   "source": [
    "pop = init_pop(pos, langue, pos1(pos))\n",
    "pop"
   ]
  },
  {
   "cell_type": "code",
   "execution_count": 11,
   "metadata": {},
   "outputs": [],
   "source": [
    "def repartion_init_langues(pop, s):\n",
    "    a = 0\n",
    "    i = 0\n",
    "    for e in pop:\n",
    "        if i in s:           \n",
    "            (pop[e])[a] = random.randint(8000,10000)\n",
    "            a = a + 1\n",
    "        i = i+1\n",
    "    return pop\n"
   ]
  },
  {
   "cell_type": "code",
   "execution_count": 12,
   "metadata": {},
   "outputs": [
    {
     "data": {
      "text/plain": [
       "{(0, 0): [0, 0, 0, 0],\n",
       " (0, 1): [0, 0, 0, 8447],\n",
       " (0, 2): [0, 0, 0, 0],\n",
       " (0, 3): [0, 0, 0, 0],\n",
       " (0, 4): [0, 0, 0, 0],\n",
       " (0, 5): [0, 0, 0, 0],\n",
       " (1, 0): [0, 0, 0, 0],\n",
       " (1, 1): [0, 0, 0, 0],\n",
       " (1, 2): [0, 0, 0, 0],\n",
       " (1, 3): [0, 0, 0, 0],\n",
       " (1, 4): [0, 9548, 0, 0],\n",
       " (1, 5): [0, 0, 0, 0],\n",
       " (2, 0): [0, 0, 0, 0],\n",
       " (2, 1): [0, 0, 0, 0],\n",
       " (2, 2): [0, 0, 0, 0],\n",
       " (2, 3): [0, 0, 0, 0],\n",
       " (2, 4): [0, 0, 0, 0],\n",
       " (2, 5): [0, 0, 0, 0],\n",
       " (3, 0): [0, 0, 0, 0],\n",
       " (3, 1): [0, 0, 0, 0],\n",
       " (3, 2): [0, 0, 0, 0],\n",
       " (3, 3): [0, 0, 0, 0],\n",
       " (3, 4): [0, 0, 0, 0],\n",
       " (3, 5): [0, 0, 0, 0],\n",
       " (4, 0): [0, 0, 0, 0],\n",
       " (4, 1): [0, 0, 0, 0],\n",
       " (4, 2): [0, 0, 0, 0],\n",
       " (4, 3): [0, 0, 0, 0],\n",
       " (4, 4): [0, 0, 0, 0],\n",
       " (4, 5): [0, 0, 0, 0],\n",
       " (5, 0): [0, 0, 0, 0],\n",
       " (5, 1): [0, 0, 8998, 0],\n",
       " (5, 2): [0, 0, 0, 0],\n",
       " (5, 3): [0, 0, 0, 0],\n",
       " (5, 4): [8724, 0, 0, 0],\n",
       " (5, 5): [0, 0, 0, 0]}"
      ]
     },
     "execution_count": 12,
     "metadata": {},
     "output_type": "execute_result"
    }
   ],
   "source": [
    "finit = repartion_init_langues(pop, rep)\n",
    "finit"
   ]
  },
  {
   "cell_type": "code",
   "execution_count": 13,
   "metadata": {},
   "outputs": [],
   "source": [
    "def existe(tupl, finit):\n",
    "    \n",
    "    for i in finit[tupl]:\n",
    "        if i>0: \n",
    "            return 1\n",
    "            \n",
    "    return 0"
   ]
  },
  {
   "cell_type": "code",
   "execution_count": 14,
   "metadata": {},
   "outputs": [],
   "source": [
    "def ensemble(a):\n",
    "    s = set()\n",
    "    for (x,y) in a:\n",
    "        if existe((x,y), a) == 1: \n",
    "            s.add((x,y))\n",
    "            \n",
    "    return s\n"
   ]
  },
  {
   "cell_type": "code",
   "execution_count": 15,
   "metadata": {},
   "outputs": [],
   "source": [
    "def affect_array(dicto, size=3, nb_langues=1):\n",
    "    \"\"\"\n",
    "    \n",
    "    \"\"\"\n",
    "    array = np.empty((size, size, nb_langues))\n",
    "    for index, values in dicto.items():\n",
    "        array[index] = values\n",
    "    \n",
    "    return array"
   ]
  },
  {
   "cell_type": "code",
   "execution_count": 16,
   "metadata": {},
   "outputs": [],
   "source": [
    "def expansion(finit, tupl):\n",
    "    x, y = tupl\n",
    "    x1 = len(finit)\n",
    "    y1 = len(finit)\n",
    "    \n",
    "  \n",
    "    j = 0\n",
    "\n",
    "    \n",
    "    for i in finit[(x,y)]:\n",
    "            \n",
    "        if i > 10: #utiliser les indices plutot que les cases non nuls\n",
    "            while x+x1 < 0 or x+x1 >= math.sqrt(len(finit)) or y+y1 < 0 or y+y1>=math.sqrt(len(finit)):\n",
    "                x1 = random.randint(-1,1)\n",
    "                y1 = random.randint(-1,1)\n",
    "            \n",
    "            nb = int((random.randint(5,10)/100)*i)\n",
    "            finit[(x,y)][j] = finit[(x,y)][j] - nb\n",
    "            finit[(x+x1, y+y1)][j] = finit[(x+x1, y+y1)][j] + nb\n",
    "        j = j+1\n",
    "    \n",
    "    return finit"
   ]
  },
  {
   "cell_type": "code",
   "execution_count": 17,
   "metadata": {},
   "outputs": [],
   "source": [
    "# def evolution(finit):\n",
    "    \n",
    "#    a = 0\n",
    "\n",
    "   # for (x,y) in finit:\n",
    "     #   for i in finit[(x,y)]:\n",
    "         #   if i > 0: \n",
    "        #        print(\"..\")\n",
    "       #         a = 1\n",
    "                \n",
    "                \n",
    "      #  if a == 1:\n",
    "     #       print(\"32\")\n",
    "    #        finit = expansion(finit, (x,y))\n",
    "            \n",
    "    #        a = 0\n",
    "                \n",
    "                \n",
    "   # return finit"
   ]
  },
  {
   "cell_type": "code",
   "execution_count": 18,
   "metadata": {},
   "outputs": [],
   "source": [
    "def evolution2(finit):\n",
    "    \n",
    "    s = ensemble(finit)\n",
    "    for e in s:\n",
    "        expansion(finit, e)\n",
    "        \n",
    "    return finit\n"
   ]
  },
  {
   "cell_type": "code",
   "execution_count": 19,
   "metadata": {
    "scrolled": true
   },
   "outputs": [],
   "source": [
    "i = 0\n",
    "while i < 100:\n",
    "    evolution2(finit)\n",
    "    i = i+1"
   ]
  },
  {
   "cell_type": "code",
   "execution_count": 20,
   "metadata": {
    "scrolled": false
   },
   "outputs": [
    {
     "name": "stdout",
     "output_type": "stream",
     "text": [
      "[[[ 15. 106.  48. 496.]\n",
      "  [ 17. 115.  34. 403.]\n",
      "  [ 38. 312.  45. 313.]\n",
      "  [ 69. 534.  39. 235.]\n",
      "  [ 64. 447.  25. 120.]\n",
      "  [ 57. 405.  16.  57.]]\n",
      "\n",
      " [[ 22. 159.  99. 649.]\n",
      "  [ 44. 295. 124. 928.]\n",
      "  [ 67. 339. 105. 484.]\n",
      "  [177. 825. 125. 549.]\n",
      "  [157. 772.  58. 186.]\n",
      "  [132. 429.  26.  55.]]\n",
      "\n",
      " [[ 34. 102. 202. 406.]\n",
      "  [ 90. 220. 214. 596.]\n",
      "  [163. 279. 227. 382.]\n",
      "  [234. 426. 200. 305.]\n",
      "  [331. 643. 110. 126.]\n",
      "  [253. 499.  59.  62.]]\n",
      "\n",
      " [[ 76.  62. 319. 198.]\n",
      "  [150. 163. 523. 373.]\n",
      "  [283. 224. 509. 294.]\n",
      "  [485. 409. 343. 188.]\n",
      "  [569. 319. 193.  76.]\n",
      "  [523. 258. 153.  48.]]\n",
      "\n",
      " [[123.  74. 752. 156.]\n",
      "  [223. 122. 701. 160.]\n",
      "  [442. 145. 753. 141.]\n",
      "  [577. 198. 411. 106.]\n",
      "  [694. 169. 252.  40.]\n",
      "  [545. 112. 143.  19.]]\n",
      "\n",
      " [[126.  50. 564.  90.]\n",
      "  [158.  55. 550.  75.]\n",
      "  [175.  59. 401.  54.]\n",
      "  [392.  55. 238.  29.]\n",
      "  [764. 107. 323.  31.]\n",
      "  [455.  60. 114.  17.]]]\n"
     ]
    }
   ],
   "source": [
    "plateau = affect_array(finit, int(math.sqrt(len(pos))), len(langue))\n",
    "print(plateau)"
   ]
  },
  {
   "cell_type": "code",
   "execution_count": 21,
   "metadata": {},
   "outputs": [
    {
     "data": {
      "image/png": "[encoded data removed]",
      "text/plain": [
       "<Figure size 432x288 with 5 Axes>"
      ]
     },
     "metadata": {},
     "output_type": "display_data"
    }
   ],
   "source": [
    "fig, ax = plt.subplots(2, 2)\n",
    "im = ax[0, 0].imshow(plateau[:,:,0])\n",
    "ax[0,0].set_title(\"l1\")\n",
    "im = ax[0, 1].imshow(plateau[:,:,1])\n",
    "ax[0,1].set_title(\"l2\")\n",
    "im = ax[1, 0].imshow(plateau[:,:,2])\n",
    "ax[1,0].set_title(\"l3\")\n",
    "im = ax[1, 1].imshow(plateau[:,:,3])\n",
    "ax[1,1].set_title(\"l4\")\n",
    "fig.subplots_adjust(right=0.8)\n",
    "cbar_ax = fig.add_axes([0.85, 0.15, 0.05, 0.7])\n",
    "fig.colorbar(im, cax=cbar_ax)\n",
    "\n",
    "plt.show()"
   ]
  },
  {
   "cell_type": "code",
   "execution_count": 22,
   "metadata": {},
   "outputs": [],
   "source": [
    "def evolution_intra_case(finit,tupl):\n",
    "    l=[]\n",
    "    finit_finale=finit\n",
    "    total_pop = 0\n",
    "    if finit[tupl] != [0, 0, 0, 0, 0]:\n",
    "        for i in finit[tupl]:\n",
    "            total_pop+=i\n",
    "        for i in finit[tupl]:\n",
    "            l.append(i/total_pop)\n",
    "    for i in range(len(l)):\n",
    "        if l[i]>0.6:\n",
    "            finit_finale[tupl][i]=finit[tupl][i]\n",
    "            for j in range(len(finit[tupl])):\n",
    "                if i!=j:\n",
    "                    finit_finale[tupl][j]=int(finit[tupl][j]*0.9)\n",
    "                    finit_finale[tupl][i]+=int(finit[tupl][j]*0.9)\n",
    "                   \n",
    "    return finit_finale"
   ]
  },
  {
   "cell_type": "code",
   "execution_count": null,
   "metadata": {},
   "outputs": [],
   "source": [
    "\n"
   ]
  },
  {
   "cell_type": "code",
   "execution_count": null,
   "metadata": {},
   "outputs": [],
   "source": []
  },
  {
   "cell_type": "code",
   "execution_count": null,
   "metadata": {},
   "outputs": [],
   "source": []
  },
  {
   "cell_type": "code",
   "execution_count": null,
   "metadata": {},
   "outputs": [],
   "source": []
  },
  {
   "cell_type": "code",
   "execution_count": null,
   "metadata": {},
   "outputs": [],
   "source": []
  }
 ],
 "metadata": {
  "kernelspec": {
   "display_name": "Python 3",
   "language": "python",
   "name": "python3"
  },
  "language_info": {
   "codemirror_mode": {
    "name": "ipython",
    "version": 3
   },
   "file_extension": ".py",
   "mimetype": "text/x-python",
   "name": "python",
   "nbconvert_exporter": "python",
   "pygments_lexer": "ipython3",
   "version": "3.5.3"
  }
 },
 "nbformat": 4,
 "nbformat_minor": 2
}
