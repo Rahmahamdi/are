{
 "cells": [
  {
   "cell_type": "code",
   "execution_count": 1,
   "metadata": {},
   "outputs": [],
   "source": [
    "import matplotlib.pyplot as plt\n",
    "%matplotlib inline\n",
    "import random\n",
    "import numpy as np\n",
    "import math"
   ]
  },
  {
   "cell_type": "markdown",
   "metadata": {},
   "source": [
    " "
   ]
  },
  {
   "cell_type": "code",
   "execution_count": 2,
   "metadata": {},
   "outputs": [],
   "source": [
    "def init_pos(taille):\n",
    "    liste_tupple = []\n",
    "    plateau = taille*taille \n",
    "    for i in range(taille):\n",
    "        for j in range(taille):\n",
    "            liste_tupple.append((i,j))\n",
    "    return liste_tupple"
   ]
  },
  {
   "cell_type": "code",
   "execution_count": 3,
   "metadata": {},
   "outputs": [],
   "source": [
    "def liste_langue(nbr_langue):\n",
    "    liste_langue = []\n",
    "    i = 0\n",
    "    for i in range(nbr_langue):\n",
    "        liste_langue.append(0)\n",
    "    return liste_langue"
   ]
  },
  {
   "cell_type": "code",
   "execution_count": 4,
   "metadata": {},
   "outputs": [],
   "source": [
    "pos = init_pos(15)\n",
    "langue = liste_langue(4)"
   ]
  },
  {
   "cell_type": "code",
   "execution_count": 5,
   "metadata": {},
   "outputs": [],
   "source": [
    "def pos1(pos):\n",
    "    i=0\n",
    "    i2 = 0\n",
    "    nbr_pop=[]\n",
    "    s= set()\n",
    "    n2 = 0\n",
    "    for e in range(len(langue)):\n",
    "        l=random.randint(0,len(pos)-1)\n",
    "        while l in s:\n",
    "            l=random.randint(0,len(pos)-1)\n",
    "       \n",
    "        s.add(l)  \n",
    "    return s"
   ]
  },
  {
   "cell_type": "code",
   "execution_count": 6,
   "metadata": {},
   "outputs": [
    {
     "data": {
      "text/plain": [
       "{34, 37, 113, 157}"
      ]
     },
     "execution_count": 6,
     "metadata": {},
     "output_type": "execute_result"
    }
   ],
   "source": [
    "rep = pos1(pos)\n",
    "rep"
   ]
  },
  {
   "cell_type": "code",
   "execution_count": 7,
   "metadata": {},
   "outputs": [
    {
     "data": {
      "text/plain": [
       "[0, 0, 0, 0]"
      ]
     },
     "execution_count": 7,
     "metadata": {},
     "output_type": "execute_result"
    }
   ],
   "source": [
    "langue"
   ]
  },
  {
   "cell_type": "code",
   "execution_count": 8,
   "metadata": {},
   "outputs": [],
   "source": [
    "def init_pop(pos, langue, s):\n",
    "    pop = dict()\n",
    "\n",
    "    for e in pos: \n",
    "            \n",
    "        pop[e] = langue.copy()\n",
    "        \n",
    "        \n",
    "    return pop\n"
   ]
  },
  {
   "cell_type": "code",
   "execution_count": 9,
   "metadata": {},
   "outputs": [],
   "source": [
    "pop = init_pop(pos, langue, pos1(pos))"
   ]
  },
  {
   "cell_type": "code",
   "execution_count": 10,
   "metadata": {},
   "outputs": [],
   "source": [
    "def repartion_init_langues(pop, s):\n",
    "    a = 0\n",
    "    i = 0\n",
    "    for e in pop:\n",
    "        if i in s:           \n",
    "            (pop[e])[a] = random.randint(1000,20000)\n",
    "            a = a + 1\n",
    "        i = i+1\n",
    "    return pop\n"
   ]
  },
  {
   "cell_type": "code",
   "execution_count": 11,
   "metadata": {},
   "outputs": [
    {
     "data": {
      "text/plain": [
       "{(0, 0): [0, 0, 0, 0],\n",
       " (0, 1): [0, 0, 0, 0],\n",
       " (0, 2): [0, 0, 0, 0],\n",
       " (0, 3): [0, 0, 0, 0],\n",
       " (0, 4): [0, 0, 0, 0],\n",
       " (0, 5): [0, 0, 0, 0],\n",
       " (0, 6): [0, 0, 0, 0],\n",
       " (0, 7): [0, 0, 0, 0],\n",
       " (0, 8): [0, 0, 0, 0],\n",
       " (0, 9): [0, 0, 0, 0],\n",
       " (0, 10): [0, 0, 0, 0],\n",
       " (0, 11): [0, 0, 0, 0],\n",
       " (0, 12): [0, 0, 0, 0],\n",
       " (0, 13): [0, 0, 0, 0],\n",
       " (0, 14): [0, 0, 0, 0],\n",
       " (1, 0): [0, 0, 0, 0],\n",
       " (1, 1): [0, 0, 0, 0],\n",
       " (1, 2): [0, 0, 0, 0],\n",
       " (1, 3): [0, 0, 0, 0],\n",
       " (1, 4): [0, 0, 0, 0],\n",
       " (1, 5): [0, 0, 0, 0],\n",
       " (1, 6): [0, 0, 0, 0],\n",
       " (1, 7): [0, 0, 0, 0],\n",
       " (1, 8): [0, 0, 0, 0],\n",
       " (1, 9): [0, 0, 0, 0],\n",
       " (1, 10): [0, 0, 0, 0],\n",
       " (1, 11): [0, 0, 0, 0],\n",
       " (1, 12): [0, 0, 0, 0],\n",
       " (1, 13): [0, 0, 0, 0],\n",
       " (1, 14): [0, 0, 0, 0],\n",
       " (2, 0): [0, 0, 0, 0],\n",
       " (2, 1): [0, 0, 0, 0],\n",
       " (2, 2): [0, 0, 0, 0],\n",
       " (2, 3): [0, 0, 0, 0],\n",
       " (2, 4): [1600, 0, 0, 0],\n",
       " (2, 5): [0, 0, 0, 0],\n",
       " (2, 6): [0, 0, 0, 0],\n",
       " (2, 7): [0, 2175, 0, 0],\n",
       " (2, 8): [0, 0, 0, 0],\n",
       " (2, 9): [0, 0, 0, 0],\n",
       " (2, 10): [0, 0, 0, 0],\n",
       " (2, 11): [0, 0, 0, 0],\n",
       " (2, 12): [0, 0, 0, 0],\n",
       " (2, 13): [0, 0, 0, 0],\n",
       " (2, 14): [0, 0, 0, 0],\n",
       " (3, 0): [0, 0, 0, 0],\n",
       " (3, 1): [0, 0, 0, 0],\n",
       " (3, 2): [0, 0, 0, 0],\n",
       " (3, 3): [0, 0, 0, 0],\n",
       " (3, 4): [0, 0, 0, 0],\n",
       " (3, 5): [0, 0, 0, 0],\n",
       " (3, 6): [0, 0, 0, 0],\n",
       " (3, 7): [0, 0, 0, 0],\n",
       " (3, 8): [0, 0, 0, 0],\n",
       " (3, 9): [0, 0, 0, 0],\n",
       " (3, 10): [0, 0, 0, 0],\n",
       " (3, 11): [0, 0, 0, 0],\n",
       " (3, 12): [0, 0, 0, 0],\n",
       " (3, 13): [0, 0, 0, 0],\n",
       " (3, 14): [0, 0, 0, 0],\n",
       " (4, 0): [0, 0, 0, 0],\n",
       " (4, 1): [0, 0, 0, 0],\n",
       " (4, 2): [0, 0, 0, 0],\n",
       " (4, 3): [0, 0, 0, 0],\n",
       " (4, 4): [0, 0, 0, 0],\n",
       " (4, 5): [0, 0, 0, 0],\n",
       " (4, 6): [0, 0, 0, 0],\n",
       " (4, 7): [0, 0, 0, 0],\n",
       " (4, 8): [0, 0, 0, 0],\n",
       " (4, 9): [0, 0, 0, 0],\n",
       " (4, 10): [0, 0, 0, 0],\n",
       " (4, 11): [0, 0, 0, 0],\n",
       " (4, 12): [0, 0, 0, 0],\n",
       " (4, 13): [0, 0, 0, 0],\n",
       " (4, 14): [0, 0, 0, 0],\n",
       " (5, 0): [0, 0, 0, 0],\n",
       " (5, 1): [0, 0, 0, 0],\n",
       " (5, 2): [0, 0, 0, 0],\n",
       " (5, 3): [0, 0, 0, 0],\n",
       " (5, 4): [0, 0, 0, 0],\n",
       " (5, 5): [0, 0, 0, 0],\n",
       " (5, 6): [0, 0, 0, 0],\n",
       " (5, 7): [0, 0, 0, 0],\n",
       " (5, 8): [0, 0, 0, 0],\n",
       " (5, 9): [0, 0, 0, 0],\n",
       " (5, 10): [0, 0, 0, 0],\n",
       " (5, 11): [0, 0, 0, 0],\n",
       " (5, 12): [0, 0, 0, 0],\n",
       " (5, 13): [0, 0, 0, 0],\n",
       " (5, 14): [0, 0, 0, 0],\n",
       " (6, 0): [0, 0, 0, 0],\n",
       " (6, 1): [0, 0, 0, 0],\n",
       " (6, 2): [0, 0, 0, 0],\n",
       " (6, 3): [0, 0, 0, 0],\n",
       " (6, 4): [0, 0, 0, 0],\n",
       " (6, 5): [0, 0, 0, 0],\n",
       " (6, 6): [0, 0, 0, 0],\n",
       " (6, 7): [0, 0, 0, 0],\n",
       " (6, 8): [0, 0, 0, 0],\n",
       " (6, 9): [0, 0, 0, 0],\n",
       " (6, 10): [0, 0, 0, 0],\n",
       " (6, 11): [0, 0, 0, 0],\n",
       " (6, 12): [0, 0, 0, 0],\n",
       " (6, 13): [0, 0, 0, 0],\n",
       " (6, 14): [0, 0, 0, 0],\n",
       " (7, 0): [0, 0, 0, 0],\n",
       " (7, 1): [0, 0, 0, 0],\n",
       " (7, 2): [0, 0, 0, 0],\n",
       " (7, 3): [0, 0, 0, 0],\n",
       " (7, 4): [0, 0, 0, 0],\n",
       " (7, 5): [0, 0, 0, 0],\n",
       " (7, 6): [0, 0, 0, 0],\n",
       " (7, 7): [0, 0, 0, 0],\n",
       " (7, 8): [0, 0, 9634, 0],\n",
       " (7, 9): [0, 0, 0, 0],\n",
       " (7, 10): [0, 0, 0, 0],\n",
       " (7, 11): [0, 0, 0, 0],\n",
       " (7, 12): [0, 0, 0, 0],\n",
       " (7, 13): [0, 0, 0, 0],\n",
       " (7, 14): [0, 0, 0, 0],\n",
       " (8, 0): [0, 0, 0, 0],\n",
       " (8, 1): [0, 0, 0, 0],\n",
       " (8, 2): [0, 0, 0, 0],\n",
       " (8, 3): [0, 0, 0, 0],\n",
       " (8, 4): [0, 0, 0, 0],\n",
       " (8, 5): [0, 0, 0, 0],\n",
       " (8, 6): [0, 0, 0, 0],\n",
       " (8, 7): [0, 0, 0, 0],\n",
       " (8, 8): [0, 0, 0, 0],\n",
       " (8, 9): [0, 0, 0, 0],\n",
       " (8, 10): [0, 0, 0, 0],\n",
       " (8, 11): [0, 0, 0, 0],\n",
       " (8, 12): [0, 0, 0, 0],\n",
       " (8, 13): [0, 0, 0, 0],\n",
       " (8, 14): [0, 0, 0, 0],\n",
       " (9, 0): [0, 0, 0, 0],\n",
       " (9, 1): [0, 0, 0, 0],\n",
       " (9, 2): [0, 0, 0, 0],\n",
       " (9, 3): [0, 0, 0, 0],\n",
       " (9, 4): [0, 0, 0, 0],\n",
       " (9, 5): [0, 0, 0, 0],\n",
       " (9, 6): [0, 0, 0, 0],\n",
       " (9, 7): [0, 0, 0, 0],\n",
       " (9, 8): [0, 0, 0, 0],\n",
       " (9, 9): [0, 0, 0, 0],\n",
       " (9, 10): [0, 0, 0, 0],\n",
       " (9, 11): [0, 0, 0, 0],\n",
       " (9, 12): [0, 0, 0, 0],\n",
       " (9, 13): [0, 0, 0, 0],\n",
       " (9, 14): [0, 0, 0, 0],\n",
       " (10, 0): [0, 0, 0, 0],\n",
       " (10, 1): [0, 0, 0, 0],\n",
       " (10, 2): [0, 0, 0, 0],\n",
       " (10, 3): [0, 0, 0, 0],\n",
       " (10, 4): [0, 0, 0, 0],\n",
       " (10, 5): [0, 0, 0, 0],\n",
       " (10, 6): [0, 0, 0, 0],\n",
       " (10, 7): [0, 0, 0, 7665],\n",
       " (10, 8): [0, 0, 0, 0],\n",
       " (10, 9): [0, 0, 0, 0],\n",
       " (10, 10): [0, 0, 0, 0],\n",
       " (10, 11): [0, 0, 0, 0],\n",
       " (10, 12): [0, 0, 0, 0],\n",
       " (10, 13): [0, 0, 0, 0],\n",
       " (10, 14): [0, 0, 0, 0],\n",
       " (11, 0): [0, 0, 0, 0],\n",
       " (11, 1): [0, 0, 0, 0],\n",
       " (11, 2): [0, 0, 0, 0],\n",
       " (11, 3): [0, 0, 0, 0],\n",
       " (11, 4): [0, 0, 0, 0],\n",
       " (11, 5): [0, 0, 0, 0],\n",
       " (11, 6): [0, 0, 0, 0],\n",
       " (11, 7): [0, 0, 0, 0],\n",
       " (11, 8): [0, 0, 0, 0],\n",
       " (11, 9): [0, 0, 0, 0],\n",
       " (11, 10): [0, 0, 0, 0],\n",
       " (11, 11): [0, 0, 0, 0],\n",
       " (11, 12): [0, 0, 0, 0],\n",
       " (11, 13): [0, 0, 0, 0],\n",
       " (11, 14): [0, 0, 0, 0],\n",
       " (12, 0): [0, 0, 0, 0],\n",
       " (12, 1): [0, 0, 0, 0],\n",
       " (12, 2): [0, 0, 0, 0],\n",
       " (12, 3): [0, 0, 0, 0],\n",
       " (12, 4): [0, 0, 0, 0],\n",
       " (12, 5): [0, 0, 0, 0],\n",
       " (12, 6): [0, 0, 0, 0],\n",
       " (12, 7): [0, 0, 0, 0],\n",
       " (12, 8): [0, 0, 0, 0],\n",
       " (12, 9): [0, 0, 0, 0],\n",
       " (12, 10): [0, 0, 0, 0],\n",
       " (12, 11): [0, 0, 0, 0],\n",
       " (12, 12): [0, 0, 0, 0],\n",
       " (12, 13): [0, 0, 0, 0],\n",
       " (12, 14): [0, 0, 0, 0],\n",
       " (13, 0): [0, 0, 0, 0],\n",
       " (13, 1): [0, 0, 0, 0],\n",
       " (13, 2): [0, 0, 0, 0],\n",
       " (13, 3): [0, 0, 0, 0],\n",
       " (13, 4): [0, 0, 0, 0],\n",
       " (13, 5): [0, 0, 0, 0],\n",
       " (13, 6): [0, 0, 0, 0],\n",
       " (13, 7): [0, 0, 0, 0],\n",
       " (13, 8): [0, 0, 0, 0],\n",
       " (13, 9): [0, 0, 0, 0],\n",
       " (13, 10): [0, 0, 0, 0],\n",
       " (13, 11): [0, 0, 0, 0],\n",
       " (13, 12): [0, 0, 0, 0],\n",
       " (13, 13): [0, 0, 0, 0],\n",
       " (13, 14): [0, 0, 0, 0],\n",
       " (14, 0): [0, 0, 0, 0],\n",
       " (14, 1): [0, 0, 0, 0],\n",
       " (14, 2): [0, 0, 0, 0],\n",
       " (14, 3): [0, 0, 0, 0],\n",
       " (14, 4): [0, 0, 0, 0],\n",
       " (14, 5): [0, 0, 0, 0],\n",
       " (14, 6): [0, 0, 0, 0],\n",
       " (14, 7): [0, 0, 0, 0],\n",
       " (14, 8): [0, 0, 0, 0],\n",
       " (14, 9): [0, 0, 0, 0],\n",
       " (14, 10): [0, 0, 0, 0],\n",
       " (14, 11): [0, 0, 0, 0],\n",
       " (14, 12): [0, 0, 0, 0],\n",
       " (14, 13): [0, 0, 0, 0],\n",
       " (14, 14): [0, 0, 0, 0]}"
      ]
     },
     "execution_count": 11,
     "metadata": {},
     "output_type": "execute_result"
    }
   ],
   "source": [
    "finit = repartion_init_langues(pop, rep)\n",
    "finit"
   ]
  },
  {
   "cell_type": "code",
   "execution_count": 12,
   "metadata": {},
   "outputs": [],
   "source": [
    "def existe(tupl, finit):\n",
    "    \n",
    "    for i in finit[tupl]:\n",
    "        if i>0: \n",
    "            return 1\n",
    "            \n",
    "    return 0"
   ]
  },
  {
   "cell_type": "code",
   "execution_count": 13,
   "metadata": {},
   "outputs": [],
   "source": [
    "def ensemble(a):\n",
    "    s = set()\n",
    "    for (x,y) in a:\n",
    "        if existe((x,y), a) == 1: \n",
    "            s.add((x,y))\n",
    "            \n",
    "    return s\n"
   ]
  },
  {
   "cell_type": "code",
   "execution_count": 14,
   "metadata": {},
   "outputs": [],
   "source": [
    "def affect_array(dicto, size=3, nb_langues=1):\n",
    "    \"\"\"\n",
    "    \n",
    "    \"\"\"\n",
    "    array = np.empty((size, size, nb_langues))\n",
    "    for index, values in dicto.items():\n",
    "        array[index] = values\n",
    "    \n",
    "    return array"
   ]
  },
  {
   "cell_type": "code",
   "execution_count": 15,
   "metadata": {},
   "outputs": [],
   "source": [
    "def expansion(finit, tupl):\n",
    "    x, y = tupl\n",
    "    x1 = len(finit)\n",
    "    y1 = len(finit)\n",
    "    \n",
    "  \n",
    "    j = 0\n",
    "\n",
    "    \n",
    "    for i in finit[(x,y)]:\n",
    "            \n",
    "        if i > 10: #utiliser les indices plutot que les cases non nuls\n",
    "            while x+x1 < 0 or x+x1 >= math.sqrt(len(finit)) or y+y1 < 0 or y+y1>=math.sqrt(len(finit)):\n",
    "                x1 = random.randint(-1,1)\n",
    "                y1 = random.randint(-1,1)\n",
    "            \n",
    "            nb = int((random.randint(10,20)/100)*i)\n",
    "            finit[(x,y)][j] = finit[(x,y)][j] - nb\n",
    "            finit[(x+x1, y+y1)][j] = finit[(x+x1, y+y1)][j] + nb\n",
    "        j = j+1\n",
    "    \n",
    "    return finit"
   ]
  },
  {
   "cell_type": "code",
   "execution_count": 16,
   "metadata": {},
   "outputs": [],
   "source": [
    "def evolution_intra_case(finit,tupl):\n",
    "    l=[]\n",
    "    total_pop = 0\n",
    "    if finit[tupl] != [0, 0, 0, 0]:\n",
    "        for i in finit[tupl]:\n",
    "            total_pop+=i\n",
    "        if total_pop > 0 :\n",
    "            for i in finit[tupl]:\n",
    "                l.append(i/total_pop)\n",
    "                \n",
    "    # test= [lang > 0.5 for lang in l]\n",
    "        for i in range(len(l)):\n",
    "            if l[i]>0.55:\n",
    "                for j in range(len(finit[tupl])):\n",
    "                    if i!=j:\n",
    "                        ## option: moving = finit[tupl][j] - int(finit[tupl][j]*0.9675)\n",
    "                        finit[tupl][j]=int(finit[tupl][j]*0.96)\n",
    "                for i2 in range(len(l)):\n",
    "                    if i2!=i:\n",
    "                        total_pop-=finit[tupl][i2]\n",
    "                finit[tupl][i] = total_pop\n",
    "    return finit"
   ]
  },
  {
   "cell_type": "code",
   "execution_count": 17,
   "metadata": {},
   "outputs": [],
   "source": [
    "def naissance(finit, e):\n",
    "    for i in range(len(finit[e])):\n",
    "        if existe(e, finit) and finit[e][i]> 0:\n",
    "            finit[e][i] = finit[e][i] + int((finit[e][i]*random.randint(-10, 30))/1000)\n",
    "    return finit\n",
    "    "
   ]
  },
  {
   "cell_type": "code",
   "execution_count": 18,
   "metadata": {},
   "outputs": [],
   "source": [
    "def evolution(finit):\n",
    "    \n",
    "    s = ensemble(finit)\n",
    "    for e in s:\n",
    "        finit = evolution_intra_case(finit, e)\n",
    "        expansion(finit, e)\n",
    "        naissance(finit, e) \n",
    "        \n",
    "    return finit\n"
   ]
  },
  {
   "cell_type": "code",
   "execution_count": 19,
   "metadata": {
    "scrolled": true
   },
   "outputs": [],
   "source": [
    "import copy\n",
    "\n",
    "def generation(finit, n):\n",
    "    i = 0\n",
    "    etat = copy.deepcopy(finit)\n",
    "    list_gen = [etat]\n",
    "    \n",
    "    for j in range(0, n):\n",
    "        new_etat = evolution(etat)\n",
    "        list_gen.append(new_etat)\n",
    "        etat = copy.deepcopy(new_etat)\n",
    "    \n",
    "    return list_gen"
   ]
  },
  {
   "cell_type": "code",
   "execution_count": 20,
   "metadata": {},
   "outputs": [],
   "source": [
    "test = generation(finit, 1000)"
   ]
  },
  {
   "cell_type": "code",
   "execution_count": 21,
   "metadata": {},
   "outputs": [
    {
     "data": {
      "text/plain": [
       "{(0, 0): [0, 0, 0, 0],\n",
       " (0, 1): [0, 0, 0, 0],\n",
       " (0, 2): [0, 0, 0, 0],\n",
       " (0, 3): [0, 0, 0, 0],\n",
       " (0, 4): [0, 0, 0, 0],\n",
       " (0, 5): [0, 0, 0, 0],\n",
       " (0, 6): [0, 0, 0, 0],\n",
       " (0, 7): [0, 0, 0, 0],\n",
       " (0, 8): [0, 0, 0, 0],\n",
       " (0, 9): [0, 0, 0, 0],\n",
       " (0, 10): [0, 0, 0, 0],\n",
       " (0, 11): [0, 0, 0, 0],\n",
       " (0, 12): [0, 0, 0, 0],\n",
       " (0, 13): [0, 0, 0, 0],\n",
       " (0, 14): [0, 0, 0, 0],\n",
       " (1, 0): [0, 0, 0, 0],\n",
       " (1, 1): [0, 0, 0, 0],\n",
       " (1, 2): [0, 0, 0, 0],\n",
       " (1, 3): [0, 0, 0, 0],\n",
       " (1, 4): [0, 0, 0, 0],\n",
       " (1, 5): [0, 0, 0, 0],\n",
       " (1, 6): [0, 369, 0, 0],\n",
       " (1, 7): [0, 0, 0, 0],\n",
       " (1, 8): [0, 0, 0, 0],\n",
       " (1, 9): [0, 0, 0, 0],\n",
       " (1, 10): [0, 0, 0, 0],\n",
       " (1, 11): [0, 0, 0, 0],\n",
       " (1, 12): [0, 0, 0, 0],\n",
       " (1, 13): [0, 0, 0, 0],\n",
       " (1, 14): [0, 0, 0, 0],\n",
       " (2, 0): [0, 0, 0, 0],\n",
       " (2, 1): [0, 0, 0, 0],\n",
       " (2, 2): [0, 0, 0, 0],\n",
       " (2, 3): [160, 0, 0, 0],\n",
       " (2, 4): [1467, 0, 0, 0],\n",
       " (2, 5): [0, 0, 0, 0],\n",
       " (2, 6): [0, 0, 0, 0],\n",
       " (2, 7): [0, 1788, 0, 0],\n",
       " (2, 8): [0, 0, 0, 0],\n",
       " (2, 9): [0, 0, 0, 0],\n",
       " (2, 10): [0, 0, 0, 0],\n",
       " (2, 11): [0, 0, 0, 0],\n",
       " (2, 12): [0, 0, 0, 0],\n",
       " (2, 13): [0, 0, 0, 0],\n",
       " (2, 14): [0, 0, 0, 0],\n",
       " (3, 0): [0, 0, 0, 0],\n",
       " (3, 1): [0, 0, 0, 0],\n",
       " (3, 2): [0, 0, 0, 0],\n",
       " (3, 3): [0, 0, 0, 0],\n",
       " (3, 4): [0, 0, 0, 0],\n",
       " (3, 5): [0, 0, 0, 0],\n",
       " (3, 6): [0, 0, 0, 0],\n",
       " (3, 7): [0, 0, 0, 0],\n",
       " (3, 8): [0, 0, 0, 0],\n",
       " (3, 9): [0, 0, 0, 0],\n",
       " (3, 10): [0, 0, 0, 0],\n",
       " (3, 11): [0, 0, 0, 0],\n",
       " (3, 12): [0, 0, 0, 0],\n",
       " (3, 13): [0, 0, 0, 0],\n",
       " (3, 14): [0, 0, 0, 0],\n",
       " (4, 0): [0, 0, 0, 0],\n",
       " (4, 1): [0, 0, 0, 0],\n",
       " (4, 2): [0, 0, 0, 0],\n",
       " (4, 3): [0, 0, 0, 0],\n",
       " (4, 4): [0, 0, 0, 0],\n",
       " (4, 5): [0, 0, 0, 0],\n",
       " (4, 6): [0, 0, 0, 0],\n",
       " (4, 7): [0, 0, 0, 0],\n",
       " (4, 8): [0, 0, 0, 0],\n",
       " (4, 9): [0, 0, 0, 0],\n",
       " (4, 10): [0, 0, 0, 0],\n",
       " (4, 11): [0, 0, 0, 0],\n",
       " (4, 12): [0, 0, 0, 0],\n",
       " (4, 13): [0, 0, 0, 0],\n",
       " (4, 14): [0, 0, 0, 0],\n",
       " (5, 0): [0, 0, 0, 0],\n",
       " (5, 1): [0, 0, 0, 0],\n",
       " (5, 2): [0, 0, 0, 0],\n",
       " (5, 3): [0, 0, 0, 0],\n",
       " (5, 4): [0, 0, 0, 0],\n",
       " (5, 5): [0, 0, 0, 0],\n",
       " (5, 6): [0, 0, 0, 0],\n",
       " (5, 7): [0, 0, 0, 0],\n",
       " (5, 8): [0, 0, 0, 0],\n",
       " (5, 9): [0, 0, 0, 0],\n",
       " (5, 10): [0, 0, 0, 0],\n",
       " (5, 11): [0, 0, 0, 0],\n",
       " (5, 12): [0, 0, 0, 0],\n",
       " (5, 13): [0, 0, 0, 0],\n",
       " (5, 14): [0, 0, 0, 0],\n",
       " (6, 0): [0, 0, 0, 0],\n",
       " (6, 1): [0, 0, 0, 0],\n",
       " (6, 2): [0, 0, 0, 0],\n",
       " (6, 3): [0, 0, 0, 0],\n",
       " (6, 4): [0, 0, 0, 0],\n",
       " (6, 5): [0, 0, 0, 0],\n",
       " (6, 6): [0, 0, 0, 0],\n",
       " (6, 7): [0, 0, 0, 0],\n",
       " (6, 8): [0, 0, 0, 0],\n",
       " (6, 9): [0, 0, 0, 0],\n",
       " (6, 10): [0, 0, 0, 0],\n",
       " (6, 11): [0, 0, 0, 0],\n",
       " (6, 12): [0, 0, 0, 0],\n",
       " (6, 13): [0, 0, 0, 0],\n",
       " (6, 14): [0, 0, 0, 0],\n",
       " (7, 0): [0, 0, 0, 0],\n",
       " (7, 1): [0, 0, 0, 0],\n",
       " (7, 2): [0, 0, 0, 0],\n",
       " (7, 3): [0, 0, 0, 0],\n",
       " (7, 4): [0, 0, 0, 0],\n",
       " (7, 5): [0, 0, 0, 0],\n",
       " (7, 6): [0, 0, 0, 0],\n",
       " (7, 7): [0, 0, 0, 0],\n",
       " (7, 8): [0, 0, 8596, 0],\n",
       " (7, 9): [0, 0, 0, 0],\n",
       " (7, 10): [0, 0, 0, 0],\n",
       " (7, 11): [0, 0, 0, 0],\n",
       " (7, 12): [0, 0, 0, 0],\n",
       " (7, 13): [0, 0, 0, 0],\n",
       " (7, 14): [0, 0, 0, 0],\n",
       " (8, 0): [0, 0, 0, 0],\n",
       " (8, 1): [0, 0, 0, 0],\n",
       " (8, 2): [0, 0, 0, 0],\n",
       " (8, 3): [0, 0, 0, 0],\n",
       " (8, 4): [0, 0, 0, 0],\n",
       " (8, 5): [0, 0, 0, 0],\n",
       " (8, 6): [0, 0, 0, 0],\n",
       " (8, 7): [0, 0, 0, 0],\n",
       " (8, 8): [0, 0, 1156, 0],\n",
       " (8, 9): [0, 0, 0, 0],\n",
       " (8, 10): [0, 0, 0, 0],\n",
       " (8, 11): [0, 0, 0, 0],\n",
       " (8, 12): [0, 0, 0, 0],\n",
       " (8, 13): [0, 0, 0, 0],\n",
       " (8, 14): [0, 0, 0, 0],\n",
       " (9, 0): [0, 0, 0, 0],\n",
       " (9, 1): [0, 0, 0, 0],\n",
       " (9, 2): [0, 0, 0, 0],\n",
       " (9, 3): [0, 0, 0, 0],\n",
       " (9, 4): [0, 0, 0, 0],\n",
       " (9, 5): [0, 0, 0, 0],\n",
       " (9, 6): [0, 0, 0, 0],\n",
       " (9, 7): [0, 0, 0, 0],\n",
       " (9, 8): [0, 0, 0, 0],\n",
       " (9, 9): [0, 0, 0, 0],\n",
       " (9, 10): [0, 0, 0, 0],\n",
       " (9, 11): [0, 0, 0, 0],\n",
       " (9, 12): [0, 0, 0, 0],\n",
       " (9, 13): [0, 0, 0, 0],\n",
       " (9, 14): [0, 0, 0, 0],\n",
       " (10, 0): [0, 0, 0, 0],\n",
       " (10, 1): [0, 0, 0, 0],\n",
       " (10, 2): [0, 0, 0, 0],\n",
       " (10, 3): [0, 0, 0, 0],\n",
       " (10, 4): [0, 0, 0, 0],\n",
       " (10, 5): [0, 0, 0, 0],\n",
       " (10, 6): [0, 0, 0, 0],\n",
       " (10, 7): [0, 0, 0, 6320],\n",
       " (10, 8): [0, 0, 0, 0],\n",
       " (10, 9): [0, 0, 0, 0],\n",
       " (10, 10): [0, 0, 0, 0],\n",
       " (10, 11): [0, 0, 0, 0],\n",
       " (10, 12): [0, 0, 0, 0],\n",
       " (10, 13): [0, 0, 0, 0],\n",
       " (10, 14): [0, 0, 0, 0],\n",
       " (11, 0): [0, 0, 0, 0],\n",
       " (11, 1): [0, 0, 0, 0],\n",
       " (11, 2): [0, 0, 0, 0],\n",
       " (11, 3): [0, 0, 0, 0],\n",
       " (11, 4): [0, 0, 0, 0],\n",
       " (11, 5): [0, 0, 0, 0],\n",
       " (11, 6): [0, 0, 0, 0],\n",
       " (11, 7): [0, 0, 0, 1456],\n",
       " (11, 8): [0, 0, 0, 0],\n",
       " (11, 9): [0, 0, 0, 0],\n",
       " (11, 10): [0, 0, 0, 0],\n",
       " (11, 11): [0, 0, 0, 0],\n",
       " (11, 12): [0, 0, 0, 0],\n",
       " (11, 13): [0, 0, 0, 0],\n",
       " (11, 14): [0, 0, 0, 0],\n",
       " (12, 0): [0, 0, 0, 0],\n",
       " (12, 1): [0, 0, 0, 0],\n",
       " (12, 2): [0, 0, 0, 0],\n",
       " (12, 3): [0, 0, 0, 0],\n",
       " (12, 4): [0, 0, 0, 0],\n",
       " (12, 5): [0, 0, 0, 0],\n",
       " (12, 6): [0, 0, 0, 0],\n",
       " (12, 7): [0, 0, 0, 0],\n",
       " (12, 8): [0, 0, 0, 0],\n",
       " (12, 9): [0, 0, 0, 0],\n",
       " (12, 10): [0, 0, 0, 0],\n",
       " (12, 11): [0, 0, 0, 0],\n",
       " (12, 12): [0, 0, 0, 0],\n",
       " (12, 13): [0, 0, 0, 0],\n",
       " (12, 14): [0, 0, 0, 0],\n",
       " (13, 0): [0, 0, 0, 0],\n",
       " (13, 1): [0, 0, 0, 0],\n",
       " (13, 2): [0, 0, 0, 0],\n",
       " (13, 3): [0, 0, 0, 0],\n",
       " (13, 4): [0, 0, 0, 0],\n",
       " (13, 5): [0, 0, 0, 0],\n",
       " (13, 6): [0, 0, 0, 0],\n",
       " (13, 7): [0, 0, 0, 0],\n",
       " (13, 8): [0, 0, 0, 0],\n",
       " (13, 9): [0, 0, 0, 0],\n",
       " (13, 10): [0, 0, 0, 0],\n",
       " (13, 11): [0, 0, 0, 0],\n",
       " (13, 12): [0, 0, 0, 0],\n",
       " (13, 13): [0, 0, 0, 0],\n",
       " (13, 14): [0, 0, 0, 0],\n",
       " (14, 0): [0, 0, 0, 0],\n",
       " (14, 1): [0, 0, 0, 0],\n",
       " (14, 2): [0, 0, 0, 0],\n",
       " (14, 3): [0, 0, 0, 0],\n",
       " (14, 4): [0, 0, 0, 0],\n",
       " (14, 5): [0, 0, 0, 0],\n",
       " (14, 6): [0, 0, 0, 0],\n",
       " (14, 7): [0, 0, 0, 0],\n",
       " (14, 8): [0, 0, 0, 0],\n",
       " (14, 9): [0, 0, 0, 0],\n",
       " (14, 10): [0, 0, 0, 0],\n",
       " (14, 11): [0, 0, 0, 0],\n",
       " (14, 12): [0, 0, 0, 0],\n",
       " (14, 13): [0, 0, 0, 0],\n",
       " (14, 14): [0, 0, 0, 0]}"
      ]
     },
     "execution_count": 21,
     "metadata": {},
     "output_type": "execute_result"
    }
   ],
   "source": [
    "test[0]"
   ]
  },
  {
   "cell_type": "code",
   "execution_count": 22,
   "metadata": {},
   "outputs": [],
   "source": [
    "def affiche(c):\n",
    "    plateau = affect_array(test[c], int(math.sqrt(len(pos))), len(langue))\n",
    "    fig, ax = plt.subplots(2, 2)\n",
    "    im = ax[0, 0].imshow(plateau[:,:,0])\n",
    "    ax[0,0].set_title(\"l1\")\n",
    "    im = ax[0, 1].imshow(plateau[:,:,1])\n",
    "    ax[0,1].set_title(\"l2\")\n",
    "    im = ax[1, 0].imshow(plateau[:,:,2])\n",
    "    ax[1,0].set_title(\"l3\")\n",
    "    im = ax[1, 1].imshow(plateau[:,:,3])\n",
    "    ax[1,1].set_title(\"l4\")\n",
    "    fig.subplots_adjust(top=1.2)\n",
    "    fig.subplots_adjust(right=0.8)\n",
    "    cbar_ax = fig.add_axes([0.85, 0.15, 0.05, 0.7])\n",
    "    fig.colorbar(im, cax=cbar_ax)\n",
    "\n",
    "    plt.show()\n",
    "    "
   ]
  },
  {
   "cell_type": "code",
   "execution_count": 23,
   "metadata": {
    "scrolled": true
   },
   "outputs": [
    {
     "data": {
      "image/png": "[encoded data removed]",
      "text/plain": [
       "<Figure size 432x288 with 5 Axes>"
      ]
     },
     "metadata": {
      "needs_background": "light"
     },
     "output_type": "display_data"
    },
    {
     "data": {
      "image/png": "[encoded data removed]",
      "text/plain": [
       "<Figure size 432x288 with 5 Axes>"
      ]
     },
     "metadata": {
      "needs_background": "light"
     },
     "output_type": "display_data"
    },
    {
     "data": {
      "image/png": "[encoded data removed]",
      "text/plain": [
       "<Figure size 432x288 with 5 Axes>"
      ]
     },
     "metadata": {
      "needs_background": "light"
     },
     "output_type": "display_data"
    },
    {
     "data": {
      "image/png": "[encoded data removed]",
      "text/plain": [
       "<Figure size 432x288 with 5 Axes>"
      ]
     },
     "metadata": {
      "needs_background": "light"
     },
     "output_type": "display_data"
    },
    {
     "data": {
      "image/png": "[encoded data removed]",
      "text/plain": [
       "<Figure size 432x288 with 5 Axes>"
      ]
     },
     "metadata": {
      "needs_background": "light"
     },
     "output_type": "display_data"
    },
    {
     "data": {
      "image/png": "[encoded data removed]",
      "text/plain": [
       "<Figure size 432x288 with 5 Axes>"
      ]
     },
     "metadata": {
      "needs_background": "light"
     },
     "output_type": "display_data"
    },
    {
     "data": {
      "image/png": "[encoded data removed]",
      "text/plain": [
       "<Figure size 432x288 with 5 Axes>"
      ]
     },
     "metadata": {
      "needs_background": "light"
     },
     "output_type": "display_data"
    },
    {
     "data": {
      "image/png": "[encoded data removed]",
      "text/plain": [
       "<Figure size 432x288 with 5 Axes>"
      ]
     },
     "metadata": {
      "needs_background": "light"
     },
     "output_type": "display_data"
    },
    {
     "data": {
      "image/png": "[encoded data removed]",
      "text/plain": [
       "<Figure size 432x288 with 5 Axes>"
      ]
     },
     "metadata": {
      "needs_background": "light"
     },
     "output_type": "display_data"
    },
    {
     "data": {
      "image/png": "[encoded data removed]",
      "text/plain": [
       "<Figure size 432x288 with 5 Axes>"
      ]
     },
     "metadata": {
      "needs_background": "light"
     },
     "output_type": "display_data"
    },
    {
     "data": {
      "image/png": "[encoded data removed]",
      "text/plain": [
       "<Figure size 432x288 with 5 Axes>"
      ]
     },
     "metadata": {
      "needs_background": "light"
     },
     "output_type": "display_data"
    }
   ],
   "source": [
    "i = 0\n",
    "while(i<=500):\n",
    "    affiche(i)\n",
    "    i = i + 50\n"
   ]
  },
  {
   "cell_type": "code",
   "execution_count": 24,
   "metadata": {},
   "outputs": [],
   "source": [
    "def universelle(finit):\n",
    "    l=[0,0,0,0]\n",
    "    r=[0,0,0,0]\n",
    "    res=[]\n",
    "    j=0\n",
    "    c=0\n",
    "    for e in finit:\n",
    "        for i in finit[e]:\n",
    "            l[j] += i\n",
    "            j+=1\n",
    "        j=0\n",
    "    \n",
    "    for s in range(4):\n",
    "        for f in finit:\n",
    "            if finit[f][s]>50:\n",
    "                c+=1\n",
    "        r[s]=c\n",
    "        c = 0\n",
    "        \n",
    "    for i in range(4):\n",
    "        res.append(int(l[i]/255-r[i]))\n",
    "    return (l,r,res)\n"
   ]
  },
  {
   "cell_type": "code",
   "execution_count": 25,
   "metadata": {},
   "outputs": [
    {
     "data": {
      "text/plain": [
       "([0, 0, 869066, 550225], [0, 0, 206, 152], [0, 0, 3202, 2005])"
      ]
     },
     "execution_count": 25,
     "metadata": {},
     "output_type": "execute_result"
    }
   ],
   "source": [
    "universelle(test[500])"
   ]
  },
  {
   "cell_type": "code",
   "execution_count": null,
   "metadata": {},
   "outputs": [],
   "source": []
  }
 ],
 "metadata": {
  "kernelspec": {
   "display_name": "Python 3",
   "language": "python",
   "name": "python3"
  },
  "language_info": {
   "codemirror_mode": {
    "name": "ipython",
    "version": 3
   },
   "file_extension": ".py",
   "mimetype": "text/x-python",
   "name": "python",
   "nbconvert_exporter": "python",
   "pygments_lexer": "ipython3",
   "version": "3.7.0"
  }
 },
 "nbformat": 4,
 "nbformat_minor": 2
}
