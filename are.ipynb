{
 "cells": [
  {
   "cell_type": "code",
   "execution_count": 1,
   "metadata": {},
   "outputs": [],
   "source": [
    "import random\n",
    "import math"
   ]
  },
  {
   "cell_type": "code",
   "execution_count": 2,
   "metadata": {},
   "outputs": [],
   "source": [
    "def init_pos(taille):\n",
    "    liste_tupple = []\n",
    "    plateau = taille*taille \n",
    "    for i in range(taille):\n",
    "        for j in range(taille):\n",
    "            liste_tupple.append((i,j))\n",
    "    return liste_tupple"
   ]
  },
  {
   "cell_type": "code",
   "execution_count": 3,
   "metadata": {},
   "outputs": [],
   "source": [
    "def liste_langue(nbr_langue):\n",
    "    liste_langue = []\n",
    "    i = 0\n",
    "    for i in range(nbr_langue):\n",
    "        liste_langue.append(0)\n",
    "    return liste_langue"
   ]
  },
  {
   "cell_type": "code",
   "execution_count": 4,
   "metadata": {},
   "outputs": [],
   "source": [
    "pos = init_pos(3)\n",
    "langue = liste_langue(5)"
   ]
  },
  {
   "cell_type": "code",
   "execution_count": 5,
   "metadata": {},
   "outputs": [
    {
     "data": {
      "text/plain": [
       "[(0, 0), (0, 1), (0, 2), (1, 0), (1, 1), (1, 2), (2, 0), (2, 1), (2, 2)]"
      ]
     },
     "execution_count": 5,
     "metadata": {},
     "output_type": "execute_result"
    }
   ],
   "source": [
    "pos"
   ]
  },
  {
   "cell_type": "code",
   "execution_count": 6,
   "metadata": {},
   "outputs": [],
   "source": [
    "def pos1(pos):\n",
    "    i=0\n",
    "    i2 = 0\n",
    "    nbr_pop=[]\n",
    "    s= set()\n",
    "    n2 = 0\n",
    "    for e in range(len(langue)):\n",
    "        l=random.randint(0,len(pos))\n",
    "        while l in s:\n",
    "            l=random.randint(0,len(pos))\n",
    "       \n",
    "        s.add(l) #positionnement\n",
    "   \n",
    "    #for i2 in pos:\n",
    "      #  x,y,n = i2\n",
    "       # if i in s:\n",
    "        #    for i2 in pos:\n",
    "         #       n2 = random.randint(800,1000)\n",
    "          #      if n2 != n:\n",
    "                   \n",
    "           #         i2 = (x, y, n2)\n",
    "            #        pos[i] = i2\n",
    "             #   else :\n",
    "              #      n2 = random.randint(800,1000)\n",
    "               #     i2 = (x, y, n2)\n",
    "                #    pos[i] = i2\n",
    "                   \n",
    "               \n",
    "      #  i = i +1\n",
    "       \n",
    "                   \n",
    "           \n",
    "    return s"
   ]
  },
  {
   "cell_type": "code",
   "execution_count": 7,
   "metadata": {},
   "outputs": [],
   "source": [
    "rep = pos1(pos)"
   ]
  },
  {
   "cell_type": "code",
   "execution_count": 8,
   "metadata": {},
   "outputs": [
    {
     "data": {
      "text/plain": [
       "[0, 0, 0, 0, 0]"
      ]
     },
     "execution_count": 8,
     "metadata": {},
     "output_type": "execute_result"
    }
   ],
   "source": [
    "langue"
   ]
  },
  {
   "cell_type": "code",
   "execution_count": 9,
   "metadata": {},
   "outputs": [],
   "source": [
    "def init_pop(pos, langue, s):\n",
    "    pop = dict()\n",
    "\n",
    "    for e in pos: \n",
    "            \n",
    "        pop[e] = langue.copy()\n",
    "        \n",
    "        \n",
    "    return pop\n"
   ]
  },
  {
   "cell_type": "code",
   "execution_count": 10,
   "metadata": {},
   "outputs": [],
   "source": [
    "pop = init_pop(pos, langue, pos1(pos))"
   ]
  },
  {
   "cell_type": "code",
   "execution_count": 11,
   "metadata": {},
   "outputs": [],
   "source": [
    "def repartion_init_langues(pop, s):\n",
    "    a = 0\n",
    "    i = 0\n",
    "    for e in pop:\n",
    "        if i in s:           \n",
    "            (pop[e])[a] = random.randint(800,1000)\n",
    "            a = a + 1\n",
    "        i = i+1\n",
    "    return pop\n"
   ]
  },
  {
   "cell_type": "code",
   "execution_count": 12,
   "metadata": {},
   "outputs": [],
   "source": [
    "finit = repartion_init_langues(pop, rep)"
   ]
  },
  {
   "cell_type": "code",
   "execution_count": 13,
   "metadata": {},
   "outputs": [
    {
     "data": {
      "text/plain": [
       "{(0, 0): [0, 0, 0, 0, 0],\n",
       " (0, 1): [0, 0, 0, 0, 0],\n",
       " (0, 2): [0, 0, 0, 0, 0],\n",
       " (1, 0): [0, 0, 0, 0, 0],\n",
       " (1, 1): [0, 0, 0, 859, 0],\n",
       " (1, 2): [985, 0, 0, 0, 0],\n",
       " (2, 0): [0, 0, 0, 0, 0],\n",
       " (2, 1): [0, 0, 992, 0, 0],\n",
       " (2, 2): [0, 899, 0, 0, 0]}"
      ]
     },
     "execution_count": 13,
     "metadata": {},
     "output_type": "execute_result"
    }
   ],
   "source": [
    "finit"
   ]
  },
  {
   "cell_type": "code",
   "execution_count": 14,
   "metadata": {},
   "outputs": [],
   "source": [
    "def Affich(final):\n",
    "    i = 0\n",
    "    for e in final:\n",
    "        \n",
    "        print(final[e])\n",
    "        i = i+1\n",
    "    "
   ]
  },
  {
   "cell_type": "code",
   "execution_count": 15,
   "metadata": {},
   "outputs": [
    {
     "name": "stdout",
     "output_type": "stream",
     "text": [
      "[0, 0, 0, 0, 0]\n",
      "[985, 0, 0, 0, 0]\n",
      "[0, 0, 0, 0, 0]\n",
      "[0, 0, 0, 0, 0]\n",
      "[0, 0, 0, 0, 0]\n",
      "[0, 899, 0, 0, 0]\n",
      "[0, 0, 0, 0, 0]\n",
      "[0, 0, 992, 0, 0]\n",
      "[0, 0, 0, 859, 0]\n"
     ]
    }
   ],
   "source": [
    "Affich(finit)"
   ]
  },
  {
   "cell_type": "code",
   "execution_count": null,
   "metadata": {},
   "outputs": [],
   "source": []
  },
  {
   "cell_type": "code",
   "execution_count": 16,
   "metadata": {
    "scrolled": true
   },
   "outputs": [
    {
     "name": "stdout",
     "output_type": "stream",
     "text": [
      "(0, 2)\n"
     ]
    },
    {
     "data": {
      "text/plain": [
       "{(0, 0): [0, 0, 0, 0, 0],\n",
       " (0, 1): [0, 0, 0, 0, 0],\n",
       " (0, 2): [0, 0, 0, 21, 0],\n",
       " (1, 0): [0, 0, 0, 0, 0],\n",
       " (1, 1): [0, 0, 0, 838, 0],\n",
       " (1, 2): [985, 0, 0, 0, 0],\n",
       " (2, 0): [0, 0, 0, 0, 0],\n",
       " (2, 1): [0, 0, 992, 0, 0],\n",
       " (2, 2): [0, 899, 0, 0, 0]}"
      ]
     },
     "execution_count": 16,
     "metadata": {},
     "output_type": "execute_result"
    }
   ],
   "source": [
    "def expansion(finit, tupl):\n",
    "    x, y = tupl\n",
    "    x1 = len(finit)\n",
    "    y1 = len(finit)\n",
    "    while x+x1 < 0 or x+x1 >= math.sqrt(len(finit)) or y+y1 < 0 or y+y1>=math.sqrt(len(finit)):\n",
    "        x1 = random.randint(-1,1)\n",
    "        y1 = random.randint(-1,1)\n",
    "    nb = random.randint(20,30)\n",
    "    j = 0\n",
    "    \n",
    "    print((x+x1,y+y1))\n",
    "    \n",
    "    \n",
    "    \n",
    "    for i in finit[(x,y)]:\n",
    "    \n",
    "        if i > 0: #utiliser les indices plutot que les cases non nuls\n",
    "            finit[(x,y)][j] = finit[(x,y)][j] - nb\n",
    "            finit[(x+x1, y+y1)][j] = finit[(x+x1, y+y1)][j] + nb\n",
    "    \n",
    "        j = j+1\n",
    "    \n",
    "    return finit\n",
    "\n",
    "expansion(finit, (1,1))"
   ]
  },
  {
   "cell_type": "code",
   "execution_count": 17,
   "metadata": {},
   "outputs": [
    {
     "data": {
      "text/plain": [
       "{(0, 0): [0, 0, 0, 0, 0],\n",
       " (0, 1): [0, 0, 0, 0, 0],\n",
       " (0, 2): [0, 0, 0, 21, 0],\n",
       " (1, 0): [0, 0, 0, 0, 0],\n",
       " (1, 1): [0, 0, 0, 838, 0],\n",
       " (1, 2): [985, 0, 0, 0, 0],\n",
       " (2, 0): [0, 0, 0, 0, 0],\n",
       " (2, 1): [0, 0, 992, 0, 0],\n",
       " (2, 2): [0, 899, 0, 0, 0]}"
      ]
     },
     "execution_count": 17,
     "metadata": {},
     "output_type": "execute_result"
    }
   ],
   "source": [
    "finit"
   ]
  },
  {
   "cell_type": "code",
   "execution_count": 18,
   "metadata": {},
   "outputs": [],
   "source": [
    "def evolution(finit):\n",
    "    \n",
    "    a = 0\n",
    "    \n",
    "    for (x,y) in finit:\n",
    "        for i in finit[(x,y)]:\n",
    "            if i != 0: \n",
    "                a = 1\n",
    "                \n",
    "        if a == 1:\n",
    "            finit2 = expansion(finit, (x,y))\n",
    "            \n",
    "            a = 0\n",
    "                \n",
    "                \n",
    "    return finit2"
   ]
  },
  {
   "cell_type": "code",
   "execution_count": 19,
   "metadata": {},
   "outputs": [
    {
     "name": "stdout",
     "output_type": "stream",
     "text": [
      "(1, 2)\n",
      "(1, 2)\n",
      "(1, 1)\n",
      "(2, 1)\n",
      "(0, 0)\n"
     ]
    },
    {
     "data": {
      "text/plain": [
       "{(0, 0): [0, 0, 0, 28, 0],\n",
       " (0, 1): [0, 0, 0, 0, 0],\n",
       " (0, 2): [0, 0, 0, -9, 0],\n",
       " (1, 0): [0, 0, 0, 0, 0],\n",
       " (1, 1): [0, 0, 0, 840, 0],\n",
       " (1, 2): [985, 21, 0, 0, 0],\n",
       " (2, 0): [0, 0, 0, 0, 0],\n",
       " (2, 1): [0, 0, 992, 0, 0],\n",
       " (2, 2): [0, 878, 0, 0, 0]}"
      ]
     },
     "execution_count": 19,
     "metadata": {},
     "output_type": "execute_result"
    }
   ],
   "source": [
    "evolution(finit)"
   ]
  },
  {
   "cell_type": "code",
   "execution_count": 20,
   "metadata": {},
   "outputs": [
    {
     "name": "stdout",
     "output_type": "stream",
     "text": [
      "[0, 0, 0, 0, 0]\n",
      "[985, 21, 0, 0, 0]\n",
      "[0, 0, 0, 28, 0]\n",
      "[0, 0, 0, 0, 0]\n",
      "[0, 0, 0, 0, 0]\n",
      "[0, 878, 0, 0, 0]\n",
      "[0, 0, 0, -9, 0]\n",
      "[0, 0, 992, 0, 0]\n",
      "[0, 0, 0, 840, 0]\n"
     ]
    }
   ],
   "source": [
    "Affich(finit)"
   ]
  },
  {
   "cell_type": "code",
   "execution_count": null,
   "metadata": {},
   "outputs": [],
   "source": []
  },
  {
   "cell_type": "code",
   "execution_count": null,
   "metadata": {},
   "outputs": [],
   "source": []
  }
 ],
 "metadata": {
  "kernelspec": {
   "display_name": "Python 3",
   "language": "python",
   "name": "python3"
  },
  "language_info": {
   "codemirror_mode": {
    "name": "ipython",
    "version": 3
   },
   "file_extension": ".py",
   "mimetype": "text/x-python",
   "name": "python",
   "nbconvert_exporter": "python",
   "pygments_lexer": "ipython3",
   "version": "3.5.3"
  }
 },
 "nbformat": 4,
 "nbformat_minor": 2
}
