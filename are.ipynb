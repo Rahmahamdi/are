{
 "cells": [
  {
   "cell_type": "code",
   "execution_count": 1,
   "metadata": {},
   "outputs": [],
   "source": [
    "import matplotlib.pyplot as plt\n",
    "%matplotlib inline\n",
    "import random\n",
    "import numpy as np\n",
    "import math"
   ]
  },
  {
   "cell_type": "code",
   "execution_count": 2,
   "metadata": {},
   "outputs": [],
   "source": [
    "def init_pos(taille):\n",
    "    liste_tupple = []\n",
    "    plateau = taille*taille \n",
    "    for i in range(taille):\n",
    "        for j in range(taille):\n",
    "            liste_tupple.append((i,j))\n",
    "    return liste_tupple"
   ]
  },
  {
   "cell_type": "code",
   "execution_count": 3,
   "metadata": {},
   "outputs": [],
   "source": [
    "def liste_langue(nbr_langue):\n",
    "    liste_langue = []\n",
    "    i = 0\n",
    "    for i in range(nbr_langue):\n",
    "        liste_langue.append(0)\n",
    "    return liste_langue"
   ]
  },
  {
   "cell_type": "code",
   "execution_count": 4,
   "metadata": {},
   "outputs": [],
   "source": [
    "pos = init_pos(8)\n",
    "langue = liste_langue(4)"
   ]
  },
  {
   "cell_type": "code",
   "execution_count": 5,
   "metadata": {},
   "outputs": [
    {
     "data": {
      "text/plain": [
       "[(0, 0),\n",
       " (0, 1),\n",
       " (0, 2),\n",
       " (0, 3),\n",
       " (0, 4),\n",
       " (0, 5),\n",
       " (0, 6),\n",
       " (0, 7),\n",
       " (1, 0),\n",
       " (1, 1),\n",
       " (1, 2),\n",
       " (1, 3),\n",
       " (1, 4),\n",
       " (1, 5),\n",
       " (1, 6),\n",
       " (1, 7),\n",
       " (2, 0),\n",
       " (2, 1),\n",
       " (2, 2),\n",
       " (2, 3),\n",
       " (2, 4),\n",
       " (2, 5),\n",
       " (2, 6),\n",
       " (2, 7),\n",
       " (3, 0),\n",
       " (3, 1),\n",
       " (3, 2),\n",
       " (3, 3),\n",
       " (3, 4),\n",
       " (3, 5),\n",
       " (3, 6),\n",
       " (3, 7),\n",
       " (4, 0),\n",
       " (4, 1),\n",
       " (4, 2),\n",
       " (4, 3),\n",
       " (4, 4),\n",
       " (4, 5),\n",
       " (4, 6),\n",
       " (4, 7),\n",
       " (5, 0),\n",
       " (5, 1),\n",
       " (5, 2),\n",
       " (5, 3),\n",
       " (5, 4),\n",
       " (5, 5),\n",
       " (5, 6),\n",
       " (5, 7),\n",
       " (6, 0),\n",
       " (6, 1),\n",
       " (6, 2),\n",
       " (6, 3),\n",
       " (6, 4),\n",
       " (6, 5),\n",
       " (6, 6),\n",
       " (6, 7),\n",
       " (7, 0),\n",
       " (7, 1),\n",
       " (7, 2),\n",
       " (7, 3),\n",
       " (7, 4),\n",
       " (7, 5),\n",
       " (7, 6),\n",
       " (7, 7)]"
      ]
     },
     "execution_count": 5,
     "metadata": {},
     "output_type": "execute_result"
    }
   ],
   "source": [
    "pos"
   ]
  },
  {
   "cell_type": "code",
   "execution_count": 6,
   "metadata": {},
   "outputs": [],
   "source": [
    "def pos1(pos):\n",
    "    i=0\n",
    "    i2 = 0\n",
    "    nbr_pop=[]\n",
    "    s= set()\n",
    "    n2 = 0\n",
    "    for e in range(len(langue)):\n",
    "        l=random.randint(0,len(pos)-1)\n",
    "        while l in s:\n",
    "            l=random.randint(0,len(pos)-1)\n",
    "       \n",
    "        s.add(l) #positionnement\n",
    "   \n",
    "    #for i2 in pos:\n",
    "      #  x,y,n = i2\n",
    "       # if i in s:\n",
    "        #    for i2 in pos:\n",
    "         #       n2 = random.randint(800,1000)\n",
    "          #      if n2 != n:\n",
    "                   \n",
    "           #         i2 = (x, y, n2)\n",
    "            #        pos[i] = i2\n",
    "             #   else :\n",
    "              #      n2 = random.randint(800,1000)\n",
    "               #     i2 = (x, y, n2)\n",
    "                #    pos[i] = i2\n",
    "                   \n",
    "               \n",
    "      #  i = i +1\n",
    "       \n",
    "                   \n",
    "           \n",
    "    return s"
   ]
  },
  {
   "cell_type": "code",
   "execution_count": 7,
   "metadata": {},
   "outputs": [
    {
     "data": {
      "text/plain": [
       "{3, 9, 11, 43}"
      ]
     },
     "execution_count": 7,
     "metadata": {},
     "output_type": "execute_result"
    }
   ],
   "source": [
    "rep = pos1(pos)\n",
    "rep"
   ]
  },
  {
   "cell_type": "code",
   "execution_count": 8,
   "metadata": {},
   "outputs": [
    {
     "data": {
      "text/plain": [
       "[0, 0, 0, 0]"
      ]
     },
     "execution_count": 8,
     "metadata": {},
     "output_type": "execute_result"
    }
   ],
   "source": [
    "langue"
   ]
  },
  {
   "cell_type": "code",
   "execution_count": 9,
   "metadata": {},
   "outputs": [],
   "source": [
    "def init_pop(pos, langue, s):\n",
    "    pop = dict()\n",
    "\n",
    "    for e in pos: \n",
    "            \n",
    "        pop[e] = langue.copy()\n",
    "        \n",
    "        \n",
    "    return pop\n"
   ]
  },
  {
   "cell_type": "code",
   "execution_count": 10,
   "metadata": {},
   "outputs": [
    {
     "data": {
      "text/plain": [
       "{(0, 0): [0, 0, 0, 0],\n",
       " (0, 1): [0, 0, 0, 0],\n",
       " (0, 2): [0, 0, 0, 0],\n",
       " (0, 3): [0, 0, 0, 0],\n",
       " (0, 4): [0, 0, 0, 0],\n",
       " (0, 5): [0, 0, 0, 0],\n",
       " (0, 6): [0, 0, 0, 0],\n",
       " (0, 7): [0, 0, 0, 0],\n",
       " (1, 0): [0, 0, 0, 0],\n",
       " (1, 1): [0, 0, 0, 0],\n",
       " (1, 2): [0, 0, 0, 0],\n",
       " (1, 3): [0, 0, 0, 0],\n",
       " (1, 4): [0, 0, 0, 0],\n",
       " (1, 5): [0, 0, 0, 0],\n",
       " (1, 6): [0, 0, 0, 0],\n",
       " (1, 7): [0, 0, 0, 0],\n",
       " (2, 0): [0, 0, 0, 0],\n",
       " (2, 1): [0, 0, 0, 0],\n",
       " (2, 2): [0, 0, 0, 0],\n",
       " (2, 3): [0, 0, 0, 0],\n",
       " (2, 4): [0, 0, 0, 0],\n",
       " (2, 5): [0, 0, 0, 0],\n",
       " (2, 6): [0, 0, 0, 0],\n",
       " (2, 7): [0, 0, 0, 0],\n",
       " (3, 0): [0, 0, 0, 0],\n",
       " (3, 1): [0, 0, 0, 0],\n",
       " (3, 2): [0, 0, 0, 0],\n",
       " (3, 3): [0, 0, 0, 0],\n",
       " (3, 4): [0, 0, 0, 0],\n",
       " (3, 5): [0, 0, 0, 0],\n",
       " (3, 6): [0, 0, 0, 0],\n",
       " (3, 7): [0, 0, 0, 0],\n",
       " (4, 0): [0, 0, 0, 0],\n",
       " (4, 1): [0, 0, 0, 0],\n",
       " (4, 2): [0, 0, 0, 0],\n",
       " (4, 3): [0, 0, 0, 0],\n",
       " (4, 4): [0, 0, 0, 0],\n",
       " (4, 5): [0, 0, 0, 0],\n",
       " (4, 6): [0, 0, 0, 0],\n",
       " (4, 7): [0, 0, 0, 0],\n",
       " (5, 0): [0, 0, 0, 0],\n",
       " (5, 1): [0, 0, 0, 0],\n",
       " (5, 2): [0, 0, 0, 0],\n",
       " (5, 3): [0, 0, 0, 0],\n",
       " (5, 4): [0, 0, 0, 0],\n",
       " (5, 5): [0, 0, 0, 0],\n",
       " (5, 6): [0, 0, 0, 0],\n",
       " (5, 7): [0, 0, 0, 0],\n",
       " (6, 0): [0, 0, 0, 0],\n",
       " (6, 1): [0, 0, 0, 0],\n",
       " (6, 2): [0, 0, 0, 0],\n",
       " (6, 3): [0, 0, 0, 0],\n",
       " (6, 4): [0, 0, 0, 0],\n",
       " (6, 5): [0, 0, 0, 0],\n",
       " (6, 6): [0, 0, 0, 0],\n",
       " (6, 7): [0, 0, 0, 0],\n",
       " (7, 0): [0, 0, 0, 0],\n",
       " (7, 1): [0, 0, 0, 0],\n",
       " (7, 2): [0, 0, 0, 0],\n",
       " (7, 3): [0, 0, 0, 0],\n",
       " (7, 4): [0, 0, 0, 0],\n",
       " (7, 5): [0, 0, 0, 0],\n",
       " (7, 6): [0, 0, 0, 0],\n",
       " (7, 7): [0, 0, 0, 0]}"
      ]
     },
     "execution_count": 10,
     "metadata": {},
     "output_type": "execute_result"
    }
   ],
   "source": [
    "pop = init_pop(pos, langue, pos1(pos))\n",
    "pop"
   ]
  },
  {
   "cell_type": "code",
   "execution_count": 11,
   "metadata": {},
   "outputs": [],
   "source": [
    "def repartion_init_langues(pop, s):\n",
    "    a = 0\n",
    "    i = 0\n",
    "    for e in pop:\n",
    "        if i in s:           \n",
    "            (pop[e])[a] = random.randint(800,1000)\n",
    "            a = a + 1\n",
    "        i = i+1\n",
    "    return pop\n"
   ]
  },
  {
   "cell_type": "code",
   "execution_count": 12,
   "metadata": {},
   "outputs": [],
   "source": [
    "finit = repartion_init_langues(pop, rep)"
   ]
  },
  {
   "cell_type": "code",
   "execution_count": 13,
   "metadata": {},
   "outputs": [],
   "source": [
    "def affect_array(dicto, size=3, nb_langues=3):\n",
    "    \"\"\"\n",
    "    \n",
    "    \"\"\"\n",
    "    array = np.empty((size, size, nb_langues))\n",
    "    for index, values in dicto.items():\n",
    "        array[index] = values\n",
    "    \n",
    "    return array"
   ]
  },
  {
   "cell_type": "code",
   "execution_count": 14,
   "metadata": {},
   "outputs": [],
   "source": [
    "def expansion(finit, tupl):\n",
    "    x, y = tupl\n",
    "    x1 = len(finit)\n",
    "    y1 = len(finit)\n",
    "    \n",
    "  \n",
    "    j = 0\n",
    "\n",
    "    \n",
    "    \n",
    "    for i in finit[(x,y)]:\n",
    "        x1 = len(finit)\n",
    "        y1 = len(finit)\n",
    "        while x+x1 < 0 or x+x1 >= math.sqrt(len(finit)) or y+y1 < 0 or y+y1>=math.sqrt(len(finit)):\n",
    "            x1 = random.randint(-1,1)\n",
    "            y1 = random.randint(-1,1)\n",
    "            \n",
    "        if i > 200: #utiliser les indices plutot que les cases non nuls\n",
    "            nb = random.randint(100,200)\n",
    "            finit[(x,y)][j] = finit[(x,y)][j] - nb\n",
    "            finit[(x+x1, y+y1)][j] = finit[(x+x1, y+y1)][j] + nb\n",
    "    \n",
    "        j = j+1\n",
    "    \n",
    "    return finit"
   ]
  },
  {
   "cell_type": "code",
   "execution_count": 15,
   "metadata": {},
   "outputs": [],
   "source": [
    "def evolution(finit):\n",
    "    \n",
    "    a = 0\n",
    "\n",
    "    for (x,y) in finit:\n",
    "        for i in finit[(x,y)]:\n",
    "            if i != 0: \n",
    "                a = 1\n",
    "                \n",
    "                \n",
    "        if a == 1:\n",
    "            finit = expansion(finit, (x,y))\n",
    "            \n",
    "            a = 0\n",
    "                \n",
    "                \n",
    "    return finit"
   ]
  },
  {
   "cell_type": "code",
   "execution_count": 16,
   "metadata": {},
   "outputs": [],
   "source": [
    "i=0\n",
    "while i<= 30:\n",
    "    evolution(finit)\n",
    "    i=i+1"
   ]
  },
  {
   "cell_type": "code",
   "execution_count": 17,
   "metadata": {},
   "outputs": [
    {
     "name": "stdout",
     "output_type": "stream",
     "text": [
      "[[[  0.   0.   0.   0.]\n",
      "  [  0.   0.   0.   0.]\n",
      "  [  0.   0.   0.   0.]\n",
      "  [  0.   0.   0.   0.]\n",
      "  [  0.   0.   0. 166.]\n",
      "  [  0.   0.   0.  56.]\n",
      "  [  0.   0.   0. 187.]\n",
      "  [  0. 169.   0. 101.]]\n",
      "\n",
      " [[  0.   0.   0.   0.]\n",
      "  [  0.   0.   0.   0.]\n",
      "  [  0.   0.   0.   0.]\n",
      "  [  0.   0.   0.   0.]\n",
      "  [  0.   0.   0.   0.]\n",
      "  [  0. 119.   0.  50.]\n",
      "  [  0. 172.   0.  61.]\n",
      "  [  0.   0.   0.   0.]]\n",
      "\n",
      " [[  0.   0.   0.   0.]\n",
      "  [  0.   0.   0.   0.]\n",
      "  [  0.   0.   0.   0.]\n",
      "  [  0.   0.   0.   0.]\n",
      "  [  0.   0.   0.   0.]\n",
      "  [  0. 140.   0.   0.]\n",
      "  [  0. 170. 159. 145.]\n",
      "  [  0. 117. 198.   0.]]\n",
      "\n",
      " [[  0.   0.   0.   0.]\n",
      "  [  0.   0.   0.   0.]\n",
      "  [  0.   0.   0.   0.]\n",
      "  [  0.   0.   0.   0.]\n",
      "  [  0.   0.   0.   0.]\n",
      "  [  0.   0. 162.   0.]\n",
      "  [  0.   0. 146.   0.]\n",
      "  [  0.   0. 197. 108.]]\n",
      "\n",
      " [[  0.   0.   0.   0.]\n",
      "  [  0.   0.   0.   0.]\n",
      "  [  0.   0.   0.   0.]\n",
      "  [  0.   0.   0.   0.]\n",
      "  [  0.   0.   0.   0.]\n",
      "  [  0.   0.   0.   0.]\n",
      "  [  0.   0.   0.   0.]\n",
      "  [  0.   0.   0.   0.]]\n",
      "\n",
      " [[  0.   0.   0.   0.]\n",
      "  [  0.   0.   0.   0.]\n",
      "  [  0.   0.   0.   0.]\n",
      "  [197.   0.   0.   0.]\n",
      "  [130.   0.   0.   0.]\n",
      "  [  0.   0.   0.   0.]\n",
      "  [  0.   0.   0.   0.]\n",
      "  [  0.   0.   0.   0.]]\n",
      "\n",
      " [[  0.   0.   0.   0.]\n",
      "  [  0.   0.   0.   0.]\n",
      "  [  0.   0.   0.   0.]\n",
      "  [169.   0.   0.   0.]\n",
      "  [125.   0.   0.   0.]\n",
      "  [151.   0.   0.   0.]\n",
      "  [  0.   0.   0.   0.]\n",
      "  [  0.   0.   0.   0.]]\n",
      "\n",
      " [[  0.   0.   0.   0.]\n",
      "  [  0.   0.   0.   0.]\n",
      "  [  0.   0.   0.   0.]\n",
      "  [153.   0.   0.   0.]\n",
      "  [  0.   0.   0.   0.]\n",
      "  [  0.   0.   0.   0.]\n",
      "  [  0.   0.   0.   0.]\n",
      "  [  0.   0.   0.   0.]]]\n"
     ]
    }
   ],
   "source": [
    "gentil = affect_array(finit, 8, 4)\n",
    "print(gentil)"
   ]
  },
  {
   "cell_type": "code",
   "execution_count": 18,
   "metadata": {},
   "outputs": [
    {
     "data": {
      "image/png": "[encoded data removed]",
      "text/plain": [
       "<Figure size 432x288 with 5 Axes>"
      ]
     },
     "metadata": {},
     "output_type": "display_data"
    }
   ],
   "source": [
    "fig, ax = plt.subplots(2, 2)\n",
    "im = ax[0, 0].imshow(gentil[:,:,0])\n",
    "ax[0,0].set_title(\"l1\")\n",
    "im = ax[0, 1].imshow(gentil[:,:,1])\n",
    "ax[0,1].set_title(\"l2\")\n",
    "im = ax[1, 0].imshow(gentil[:,:,2])\n",
    "ax[1,0].set_title(\"l3\")\n",
    "im = ax[1, 1].imshow(gentil[:,:,3])\n",
    "ax[1,1].set_title(\"l4\")\n",
    "fig.subplots_adjust(right=0.8)\n",
    "cbar_ax = fig.add_axes([0.85, 0.15, 0.05, 0.7])\n",
    "fig.colorbar(im, cax=cbar_ax)\n",
    "\n",
    "plt.show()"
   ]
  },
  {
   "cell_type": "code",
   "execution_count": 19,
   "metadata": {},
   "outputs": [],
   "source": [
    "def evolution_intra_case(finit,tupl):\n",
    "    l=[]\n",
    "    finit_finale=finit\n",
    "    total_pop = 0\n",
    "    if finit[tupl] != [0, 0, 0, 0, 0]:\n",
    "        for i in finit[tupl]:\n",
    "            total_pop+=i\n",
    "        for i in finit[tupl]:\n",
    "            l.append(i/total_pop)\n",
    "    for i in range(len(l)):\n",
    "        if l[i]>0.6:\n",
    "            finit_finale[tupl][i]=finit[tupl][i]\n",
    "            for j in range(len(finit[tupl])):\n",
    "                if i!=j:\n",
    "                    finit_finale[tupl][j]=int(finit[tupl][j]*0.9)\n",
    "                    finit_finale[tupl][i]+=int(finit[tupl][j]*0.9)\n",
    "                   \n",
    "    return finit_finale"
   ]
  },
  {
   "cell_type": "code",
   "execution_count": null,
   "metadata": {},
   "outputs": [],
   "source": [
    "\n"
   ]
  },
  {
   "cell_type": "code",
   "execution_count": null,
   "metadata": {},
   "outputs": [],
   "source": []
  },
  {
   "cell_type": "code",
   "execution_count": null,
   "metadata": {},
   "outputs": [],
   "source": []
  },
  {
   "cell_type": "code",
   "execution_count": null,
   "metadata": {},
   "outputs": [],
   "source": []
  }
 ],
 "metadata": {
  "kernelspec": {
   "display_name": "Python 3",
   "language": "python",
   "name": "python3"
  },
  "language_info": {
   "codemirror_mode": {
    "name": "ipython",
    "version": 3
   },
   "file_extension": ".py",
   "mimetype": "text/x-python",
   "name": "python",
   "nbconvert_exporter": "python",
   "pygments_lexer": "ipython3",
   "version": "3.5.3"
  }
 },
 "nbformat": 4,
 "nbformat_minor": 2
}
