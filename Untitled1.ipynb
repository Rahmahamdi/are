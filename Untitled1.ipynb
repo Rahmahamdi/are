{
 "cells": [
  {
   "cell_type": "code",
   "execution_count": 15,
   "metadata": {},
   "outputs": [],
   "source": [
    "import random"
   ]
  },
  {
   "cell_type": "code",
   "execution_count": 16,
   "metadata": {},
   "outputs": [],
   "source": [
    "def init_pos(taille):\n",
    "    liste_tupple = []\n",
    "    plateau = taille*taille \n",
    "    for i in range(taille):\n",
    "        for j in range(taille):\n",
    "            liste_tupple.append((i,j,0))\n",
    "    return liste_tupple"
   ]
  },
  {
   "cell_type": "code",
   "execution_count": 17,
   "metadata": {},
   "outputs": [],
   "source": [
    "def liste_langue(nbr_langue):\n",
    "    liste_langue = []\n",
    "    i = 0\n",
    "    for i in range(nbr_langue):\n",
    "        liste_langue.append(0)\n",
    "    return liste_langue"
   ]
  },
  {
   "cell_type": "code",
   "execution_count": 18,
   "metadata": {},
   "outputs": [],
   "source": [
    "pos = init_pos(5)\n",
    "langue = liste_langue(4)"
   ]
  },
  {
   "cell_type": "code",
   "execution_count": 6,
   "metadata": {},
   "outputs": [
    {
     "data": {
      "text/plain": [
       "[(0, 0, 0),\n",
       " (0, 1, 0),\n",
       " (0, 2, 0),\n",
       " (0, 3, 0),\n",
       " (0, 4, 0),\n",
       " (1, 0, 0),\n",
       " (1, 1, 0),\n",
       " (1, 2, 0),\n",
       " (1, 3, 0),\n",
       " (1, 4, 0),\n",
       " (2, 0, 0),\n",
       " (2, 1, 0),\n",
       " (2, 2, 0),\n",
       " (2, 3, 0),\n",
       " (2, 4, 0),\n",
       " (3, 0, 0),\n",
       " (3, 1, 0),\n",
       " (3, 2, 0),\n",
       " (3, 3, 0),\n",
       " (3, 4, 0),\n",
       " (4, 0, 0),\n",
       " (4, 1, 0),\n",
       " (4, 2, 0),\n",
       " (4, 3, 0),\n",
       " (4, 4, 0)]"
      ]
     },
     "execution_count": 6,
     "metadata": {},
     "output_type": "execute_result"
    }
   ],
   "source": [
    "pos"
   ]
  },
  {
   "cell_type": "code",
   "execution_count": 7,
   "metadata": {},
   "outputs": [],
   "source": [
    "def pos1(pos):\n",
    "    i=0\n",
    "    i2 = 0\n",
    "    nbr_pop=[]\n",
    "    s= set()\n",
    "    for e1 in range(len(langue)):\n",
    "        nbr_pop.append(random.randint(800,1000)) #population de case \n",
    "    \n",
    "    for e in range(len(langue)):\n",
    "        s.add(random.randint(0,len(pos))) #positionnement \n",
    "    \n",
    "    for i2 in pos:\n",
    "        x,y,n = i2\n",
    "        if i in s:\n",
    "            \n",
    "            n = random.randint(800,1000)\n",
    "            i2 = (x, y, n)\n",
    "            pos[i] = i2\n",
    "     \n",
    "        \n",
    "        i = i +1\n",
    "        \n",
    "                    \n",
    "            \n",
    "    return pos\n",
    "\n",
    "        \n",
    "        "
   ]
  },
  {
   "cell_type": "code",
   "execution_count": 8,
   "metadata": {},
   "outputs": [
    {
     "data": {
      "text/plain": [
       "[(0, 0, 0),\n",
       " (0, 1, 0),\n",
       " (0, 2, 0),\n",
       " (0, 3, 0),\n",
       " (0, 4, 0),\n",
       " (1, 0, 0),\n",
       " (1, 1, 967),\n",
       " (1, 2, 0),\n",
       " (1, 3, 0),\n",
       " (1, 4, 0),\n",
       " (2, 0, 0),\n",
       " (2, 1, 0),\n",
       " (2, 2, 0),\n",
       " (2, 3, 0),\n",
       " (2, 4, 0),\n",
       " (3, 0, 0),\n",
       " (3, 1, 812),\n",
       " (3, 2, 0),\n",
       " (3, 3, 0),\n",
       " (3, 4, 0),\n",
       " (4, 0, 0),\n",
       " (4, 1, 0),\n",
       " (4, 2, 0),\n",
       " (4, 3, 863),\n",
       " (4, 4, 0)]"
      ]
     },
     "execution_count": 8,
     "metadata": {},
     "output_type": "execute_result"
    }
   ],
   "source": [
    "pos1(pos)"
   ]
  },
  {
   "cell_type": "code",
   "execution_count": 9,
   "metadata": {},
   "outputs": [
    {
     "data": {
      "text/plain": [
       "[0, 0, 0, 0]"
      ]
     },
     "execution_count": 9,
     "metadata": {},
     "output_type": "execute_result"
    }
   ],
   "source": [
    "langue"
   ]
  },
  {
   "cell_type": "code",
   "execution_count": 10,
   "metadata": {},
   "outputs": [],
   "source": [
    "def init_pop(pos, langue):\n",
    "    pop = dict()\n",
    "    for e in pos: \n",
    "        pop[e] = langue\n",
    "        \n",
    "    return pop\n"
   ]
  },
  {
   "cell_type": "code",
   "execution_count": 11,
   "metadata": {},
   "outputs": [
    {
     "data": {
      "text/plain": [
       "{(0, 0, 0): [0, 0, 0, 0],\n",
       " (0, 1, 0): [0, 0, 0, 0],\n",
       " (0, 2, 0): [0, 0, 0, 0],\n",
       " (0, 3, 0): [0, 0, 0, 0],\n",
       " (0, 4, 0): [0, 0, 0, 0],\n",
       " (1, 0, 0): [0, 0, 0, 0],\n",
       " (1, 1, 967): [0, 0, 0, 0],\n",
       " (1, 2, 0): [0, 0, 0, 0],\n",
       " (1, 3, 0): [0, 0, 0, 0],\n",
       " (1, 4, 0): [0, 0, 0, 0],\n",
       " (2, 0, 0): [0, 0, 0, 0],\n",
       " (2, 1, 0): [0, 0, 0, 0],\n",
       " (2, 2, 0): [0, 0, 0, 0],\n",
       " (2, 3, 0): [0, 0, 0, 0],\n",
       " (2, 4, 0): [0, 0, 0, 0],\n",
       " (3, 0, 0): [0, 0, 0, 0],\n",
       " (3, 1, 812): [0, 0, 0, 0],\n",
       " (3, 2, 0): [0, 0, 0, 0],\n",
       " (3, 3, 0): [0, 0, 0, 0],\n",
       " (3, 4, 0): [0, 0, 0, 0],\n",
       " (4, 0, 0): [0, 0, 0, 0],\n",
       " (4, 1, 0): [0, 0, 0, 0],\n",
       " (4, 2, 0): [0, 0, 0, 0],\n",
       " (4, 3, 863): [0, 0, 0, 0],\n",
       " (4, 4, 0): [0, 0, 0, 0]}"
      ]
     },
     "execution_count": 11,
     "metadata": {},
     "output_type": "execute_result"
    }
   ],
   "source": [
    "init_pop(pos, langue)"
   ]
  },
  {
   "cell_type": "code",
   "execution_count": 12,
   "metadata": {},
   "outputs": [],
   "source": [
    "pop = init_pop(pos, langue)"
   ]
  },
  {
   "cell_type": "code",
   "execution_count": 13,
   "metadata": {},
   "outputs": [
    {
     "ename": "SyntaxError",
     "evalue": "invalid syntax (<ipython-input-13-c0a5ae77c9ae>, line 17)",
     "output_type": "error",
     "traceback": [
      "\u001b[0;36m  File \u001b[0;32m\"<ipython-input-13-c0a5ae77c9ae>\"\u001b[0;36m, line \u001b[0;32m17\u001b[0m\n\u001b[0;31m    if k==\u001b[0m\n\u001b[0m          ^\u001b[0m\n\u001b[0;31mSyntaxError\u001b[0m\u001b[0;31m:\u001b[0m invalid syntax\n"
     ]
    }
   ],
   "source": [
    "def placement(pop,langue):\n",
    "    i = 0; \n",
    "    n = []\n",
    "    s = []\n",
    "    r = []\n",
    "    \n",
    "    for e1 in range(len(langue)):\n",
    "        n.append(random.randint(800,1000)) #population de case \n",
    "    \n",
    "    for e2 in range(len(langue)):\n",
    "        s.append(random.randint(0,len(pop))) #positionnement \n",
    "    \n",
    "    for e3 in s:\n",
    "        r.append(pop[e])\n",
    "\n",
    "    for (k,v) in pop.items():\n",
    "        if k==\n",
    "        \n",
    "        \n",
    "        \n",
    "    for e4 in r: \n",
    "        x, y, nbr = po\n",
    "        nbr = n[i]\n",
    "        i = i + 1\n",
    "    return r"
   ]
  },
  {
   "cell_type": "code",
   "execution_count": 14,
   "metadata": {},
   "outputs": [
    {
     "ename": "NameError",
     "evalue": "name 'placement' is not defined",
     "output_type": "error",
     "traceback": [
      "\u001b[0;31m---------------------------------------------------------------------------\u001b[0m",
      "\u001b[0;31mNameError\u001b[0m                                 Traceback (most recent call last)",
      "\u001b[0;32m<ipython-input-14-48556efa8ab0>\u001b[0m in \u001b[0;36m<module>\u001b[0;34m()\u001b[0m\n\u001b[0;32m----> 1\u001b[0;31m \u001b[0mplacement\u001b[0m\u001b[0;34m(\u001b[0m\u001b[0mpop\u001b[0m\u001b[0;34m,\u001b[0m \u001b[0mlangue\u001b[0m\u001b[0;34m)\u001b[0m\u001b[0;34m\u001b[0m\u001b[0m\n\u001b[0m",
      "\u001b[0;31mNameError\u001b[0m: name 'placement' is not defined"
     ]
    }
   ],
   "source": [
    "placement(pop, langue)"
   ]
  }
 ],
 "metadata": {
  "kernelspec": {
   "display_name": "Python 3",
   "language": "python",
   "name": "python3"
  },
  "language_info": {
   "codemirror_mode": {
    "name": "ipython",
    "version": 3
   },
   "file_extension": ".py",
   "mimetype": "text/x-python",
   "name": "python",
   "nbconvert_exporter": "python",
   "pygments_lexer": "ipython3",
   "version": "3.5.3"
  }
 },
 "nbformat": 4,
 "nbformat_minor": 2
}
